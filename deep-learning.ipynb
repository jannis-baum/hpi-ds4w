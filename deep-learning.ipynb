{
 "cells": [
  {
   "cell_type": "code",
   "execution_count": 18,
   "id": "834fcd80-585b-41b4-a1da-894458d34d6f",
   "metadata": {},
   "outputs": [],
   "source": [
    "import os\n",
    "\n",
    "import numpy as np\n",
    "\n",
    "from sklearn.preprocessing import LabelBinarizer, StandardScaler\n",
    "from sklearn.model_selection import train_test_split\n",
    "\n",
    "import torch\n",
    "import torch.nn as nn\n",
    "import torch.optim as optim\n",
    "from torch.utils.data import DataLoader, TensorDataset\n",
    "\n",
    "from script.dataset import get_data, cols_emg, cols_emg_cal"
   ]
  },
  {
   "cell_type": "code",
   "execution_count": 2,
   "id": "379564bd-ffba-4702-b2f2-8e5a7fcdc42c",
   "metadata": {},
   "outputs": [],
   "source": [
    "X, y = get_data()"
   ]
  },
  {
   "cell_type": "code",
   "execution_count": 3,
   "id": "2de015cb-0677-432b-a2ac-7d18a88eb82e",
   "metadata": {},
   "outputs": [
    {
     "name": "stdout",
     "output_type": "stream",
     "text": [
      "data shape: (312, 100, 16)\n",
      "labels shape: (312, 4), classes: ['crimp_20' 'crimp_45' 'jug' 'sloper_30']\n"
     ]
    }
   ],
   "source": [
    "# extract center 100 data points from each set & one-hot encode labels\n",
    "\n",
    "window_size = 100\n",
    "data = list()\n",
    "labels = list()\n",
    "\n",
    "for i, count in X.value_counts('id').items():\n",
    "    start = int(count / 2 - window_size / 2)\n",
    "    idx_range = X[X['id'] == i].index[start:start + window_size]\n",
    "    data.append(np.array(X.iloc[idx_range][cols_emg + cols_emg_cal]))\n",
    "    labels.append(y[i])\n",
    "    \n",
    "data = np.array(data)\n",
    "data_dim = data.shape\n",
    "print(f'data shape: {data_dim}')\n",
    "\n",
    "scaler = StandardScaler()\n",
    "data = data.reshape(-1, 8)  # reshape to 2D for scaling\n",
    "data = scaler.fit_transform(data)\n",
    "data = data.reshape(*data_dim)  # reshape back to original shape\n",
    "\n",
    "encoder = LabelBinarizer()\n",
    "labels = encoder.fit_transform(labels)\n",
    "print(f'labels shape: {labels.shape}, classes: {encoder.classes_}')"
   ]
  },
  {
   "cell_type": "code",
   "execution_count": 4,
   "id": "f1c23fd9-615a-4c10-90e4-7744c80d692b",
   "metadata": {},
   "outputs": [
    {
     "name": "stdout",
     "output_type": "stream",
     "text": [
      "training data shape: (187, 100, 16)\n"
     ]
    }
   ],
   "source": [
    "# train/test split\n",
    "\n",
    "data_train, data_test, labels_train, labels_test = train_test_split(data, labels, test_size=0.4, random_state=42)\n",
    "print(f'training data shape: {data_train.shape}')"
   ]
  },
  {
   "cell_type": "code",
   "execution_count": 5,
   "id": "8e8c7a06-e494-4c39-be4f-d815d9c17274",
   "metadata": {},
   "outputs": [],
   "source": [
    "# pytorch device & tensors\n",
    "\n",
    "# use gpu > apple silicon > cpu\n",
    "device = torch.device(\"cuda:0\" if torch.cuda.is_available() else (torch.device(\"mps\") if torch.backends.mps.is_available() else \"cpu\"))\n",
    "\n",
    "def dataset_to_tensors(data, labels):   \n",
    "    data = torch.tensor(data, dtype=torch.float32, device=device)\n",
    "    # change dimensions to (batch_size, num_features, seq_length)\n",
    "    data = data.transpose(1, 2)\n",
    "    labels = torch.tensor(labels, dtype=torch.float32, device=device)\n",
    "    return (data, labels)\n",
    "\n",
    "data_train, labels_train = dataset_to_tensors(data_train, labels_train)\n",
    "data_test, labels_test = dataset_to_tensors(data_test, labels_test)"
   ]
  },
  {
   "cell_type": "code",
   "execution_count": 6,
   "id": "f2f7bfc7-11fa-41c6-8369-41e936e65775",
   "metadata": {},
   "outputs": [],
   "source": [
    "# network\n",
    "\n",
    "class CNN(nn.Module):\n",
    "    def __init__(self, seq_length, kernel_size = 5, num_features = 32, in_channels = 16):\n",
    "        super(CNN, self).__init__()\n",
    "\n",
    "        conv_diff = kernel_size - 1\n",
    "        lin_in = int(((seq_length - conv_diff) / 2 - conv_diff) / 2 * num_features)\n",
    "        conv1_feats = int(in_channels + (num_features - in_channels) / 2)\n",
    "        \n",
    "        self.stack = nn.Sequential(\n",
    "            nn.Conv1d(in_channels=in_channels, out_channels=conv1_feats, kernel_size=kernel_size),\n",
    "            nn.ReLU(),\n",
    "            nn.MaxPool1d(kernel_size=2),\n",
    "            \n",
    "            nn.Conv1d(in_channels=conv1_feats, out_channels=num_features, kernel_size=kernel_size),\n",
    "            nn.ReLU(),\n",
    "            nn.MaxPool1d(kernel_size=2),\n",
    "\n",
    "            nn.Flatten(),\n",
    "            nn.Linear(lin_in, 4),\n",
    "            nn.Dropout(0.5),\n",
    "            nn.Softmax(dim=1)\n",
    "        )\n",
    "    \n",
    "    def forward(self, x):\n",
    "        i = torch.nn.Identity()\n",
    "        c = i(x)\n",
    "        c = self.stack(c)\n",
    "        return c"
   ]
  },
  {
   "cell_type": "code",
   "execution_count": 7,
   "id": "7d273b36-52a8-4d87-aaee-d45c474588da",
   "metadata": {},
   "outputs": [
    {
     "name": "stdout",
     "output_type": "stream",
     "text": [
      "number of parameters: 8636\n"
     ]
    }
   ],
   "source": [
    "# instantiate the model, define loss function and optimizer\n",
    "\n",
    "model = CNN(window_size).to(device)\n",
    "print(f'number of parameters: {sum(p.numel() for p in model.parameters() if p.requires_grad)}')\n",
    "criterion = nn.CrossEntropyLoss()\n",
    "optimizer = optim.Adam(model.parameters(), lr=0.001)"
   ]
  },
  {
   "cell_type": "code",
   "execution_count": 8,
   "id": "14275865-eddc-41bd-b4d6-4fada2cef4e2",
   "metadata": {},
   "outputs": [
    {
     "name": "stdout",
     "output_type": "stream",
     "text": [
      "Epoch 1/100, Loss: 1.3591\n",
      "Epoch 2/100, Loss: 1.2637\n",
      "Epoch 3/100, Loss: 1.2683\n",
      "Epoch 4/100, Loss: 1.2560\n",
      "Epoch 5/100, Loss: 1.2215\n",
      "Epoch 6/100, Loss: 1.2146\n",
      "Epoch 7/100, Loss: 1.1843\n",
      "Epoch 8/100, Loss: 1.2002\n",
      "Epoch 9/100, Loss: 1.1595\n",
      "Epoch 10/100, Loss: 1.1433\n",
      "Epoch 11/100, Loss: 1.1234\n",
      "Epoch 12/100, Loss: 1.1294\n",
      "Epoch 13/100, Loss: 1.1502\n",
      "Epoch 14/100, Loss: 1.1543\n",
      "Epoch 15/100, Loss: 1.1589\n",
      "Epoch 16/100, Loss: 1.1995\n",
      "Epoch 17/100, Loss: 1.1281\n",
      "Epoch 18/100, Loss: 1.1232\n",
      "Epoch 19/100, Loss: 1.1483\n",
      "Epoch 20/100, Loss: 1.1095\n",
      "Epoch 21/100, Loss: 1.0747\n",
      "Epoch 22/100, Loss: 1.1032\n",
      "Epoch 23/100, Loss: 1.0694\n",
      "Epoch 24/100, Loss: 1.0870\n",
      "Epoch 25/100, Loss: 1.0802\n",
      "Epoch 26/100, Loss: 1.0823\n",
      "Epoch 27/100, Loss: 1.0870\n",
      "Epoch 28/100, Loss: 1.0446\n",
      "Epoch 29/100, Loss: 1.0821\n",
      "Epoch 30/100, Loss: 1.0816\n",
      "Epoch 31/100, Loss: 1.0771\n",
      "Epoch 32/100, Loss: 1.0625\n",
      "Epoch 33/100, Loss: 1.0835\n",
      "Epoch 34/100, Loss: 1.0702\n",
      "Epoch 35/100, Loss: 1.0568\n",
      "Epoch 36/100, Loss: 1.0405\n",
      "Epoch 37/100, Loss: 1.1110\n",
      "Epoch 38/100, Loss: 1.1156\n",
      "Epoch 39/100, Loss: 1.1389\n",
      "Epoch 40/100, Loss: 1.1349\n",
      "Epoch 41/100, Loss: 1.1062\n",
      "Epoch 42/100, Loss: 1.0758\n",
      "Epoch 43/100, Loss: 1.0630\n",
      "Epoch 44/100, Loss: 1.0398\n",
      "Epoch 45/100, Loss: 1.0343\n",
      "Epoch 46/100, Loss: 1.0494\n",
      "Epoch 47/100, Loss: 1.1053\n",
      "Epoch 48/100, Loss: 1.0447\n",
      "Epoch 49/100, Loss: 1.0487\n",
      "Epoch 50/100, Loss: 1.0237\n",
      "Epoch 51/100, Loss: 1.0218\n",
      "Epoch 52/100, Loss: 1.0243\n",
      "Epoch 53/100, Loss: 1.0169\n",
      "Epoch 54/100, Loss: 1.0467\n",
      "Epoch 55/100, Loss: 1.0231\n",
      "Epoch 56/100, Loss: 1.0483\n",
      "Epoch 57/100, Loss: 1.0654\n",
      "Epoch 58/100, Loss: 1.0516\n",
      "Epoch 59/100, Loss: 1.0498\n",
      "Epoch 60/100, Loss: 1.0311\n",
      "Epoch 61/100, Loss: 1.0361\n",
      "Epoch 62/100, Loss: 1.0241\n",
      "Epoch 63/100, Loss: 1.0109\n",
      "Epoch 64/100, Loss: 1.0113\n",
      "Epoch 65/100, Loss: 1.0211\n",
      "Epoch 66/100, Loss: 1.0275\n",
      "Epoch 67/100, Loss: 1.0164\n",
      "Epoch 68/100, Loss: 0.9953\n",
      "Epoch 69/100, Loss: 1.0166\n",
      "Epoch 70/100, Loss: 1.0472\n",
      "Epoch 71/100, Loss: 1.0551\n",
      "Epoch 72/100, Loss: 1.0089\n",
      "Epoch 73/100, Loss: 0.9918\n",
      "Epoch 74/100, Loss: 0.9832\n",
      "Epoch 75/100, Loss: 1.0219\n",
      "Epoch 76/100, Loss: 0.9701\n",
      "Epoch 77/100, Loss: 1.0095\n",
      "Epoch 78/100, Loss: 1.0115\n",
      "Epoch 79/100, Loss: 1.0103\n",
      "Epoch 80/100, Loss: 1.0078\n",
      "Epoch 81/100, Loss: 0.9990\n",
      "Epoch 82/100, Loss: 1.0065\n",
      "Epoch 83/100, Loss: 1.0724\n",
      "Epoch 84/100, Loss: 1.1624\n",
      "Epoch 85/100, Loss: 1.0640\n",
      "Epoch 86/100, Loss: 1.0566\n",
      "Epoch 87/100, Loss: 1.0357\n",
      "Epoch 88/100, Loss: 1.0003\n",
      "Epoch 89/100, Loss: 0.9941\n",
      "Epoch 90/100, Loss: 0.9599\n",
      "Epoch 91/100, Loss: 0.9930\n",
      "Epoch 92/100, Loss: 0.9892\n",
      "Epoch 93/100, Loss: 1.0134\n",
      "Epoch 94/100, Loss: 0.9825\n",
      "Epoch 95/100, Loss: 0.9773\n",
      "Epoch 96/100, Loss: 0.9641\n",
      "Epoch 97/100, Loss: 1.0193\n",
      "Epoch 98/100, Loss: 0.9973\n",
      "Epoch 99/100, Loss: 0.9817\n",
      "Epoch 100/100, Loss: 0.9965\n",
      "Training complete\n"
     ]
    }
   ],
   "source": [
    "# training\n",
    "\n",
    "train = True\n",
    "\n",
    "if not train:\n",
    "    print('Skipping training')\n",
    "else:\n",
    "    # data loading\n",
    "    dataset = TensorDataset(data_train, labels_train)\n",
    "    dataloader = DataLoader(dataset, batch_size=8, shuffle=True)\n",
    "    \n",
    "    # model save\n",
    "    model_dir = 'models'\n",
    "    os.makedirs('models', exist_ok=True)\n",
    "    model_path = os.path.join('models', 'best_model.pth')\n",
    "    \n",
    "    # training loop\n",
    "    num_epochs = 100\n",
    "    best_loss = float('inf')\n",
    "    for epoch in range(num_epochs):\n",
    "        model.train()\n",
    "        running_loss = 0.0\n",
    "        for inputs, targets in dataloader:\n",
    "            optimizer.zero_grad()\n",
    "            outputs = model(inputs)\n",
    "            loss = criterion(outputs, targets)\n",
    "            loss.backward()\n",
    "            optimizer.step()\n",
    "    \n",
    "            running_loss += loss.item() * inputs.size(0)\n",
    "        \n",
    "        epoch_loss = running_loss / len(dataloader.dataset)\n",
    "        print(f'Epoch {epoch + 1}/{num_epochs}, Loss: {epoch_loss:.4f}')\n",
    "        \n",
    "        # save best model\n",
    "        if epoch_loss < best_loss:\n",
    "            best_loss = epoch_loss\n",
    "            torch.save(model.state_dict(), model_path)\n",
    "    \n",
    "    print('Training complete')"
   ]
  },
  {
   "cell_type": "code",
   "execution_count": 17,
   "id": "ef1b9967-41f7-4209-a712-e52f240e6160",
   "metadata": {},
   "outputs": [
    {
     "name": "stdout",
     "output_type": "stream",
     "text": [
      "Test Accuracy: 0.8080\n"
     ]
    }
   ],
   "source": [
    "# load best model\n",
    "model.load_state_dict(torch.load(model_path))\n",
    "model.eval()\n",
    "\n",
    "with torch.no_grad():\n",
    "    outputs = model(data_test)\n",
    "    _, predicted = torch.max(outputs, 1)\n",
    "    _, true_labels = torch.max(labels_test, 1)\n",
    "    accuracy = (predicted == true_labels).sum().item() / true_labels.size(0)\n",
    "    print(f'Test Accuracy: {accuracy:.4f}')"
   ]
  },
  {
   "cell_type": "code",
   "execution_count": null,
   "id": "85325e7d-0c58-4529-9fbb-0f6c24820ecb",
   "metadata": {},
   "outputs": [],
   "source": []
  }
 ],
 "metadata": {
  "kernelspec": {
   "display_name": "Python 3 (ipykernel)",
   "language": "python",
   "name": "python3"
  },
  "language_info": {
   "codemirror_mode": {
    "name": "ipython",
    "version": 3
   },
   "file_extension": ".py",
   "mimetype": "text/x-python",
   "name": "python",
   "nbconvert_exporter": "python",
   "pygments_lexer": "ipython3",
   "version": "3.12.2"
  }
 },
 "nbformat": 4,
 "nbformat_minor": 5
}
