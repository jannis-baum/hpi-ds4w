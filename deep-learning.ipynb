{
 "cells": [
  {
   "cell_type": "code",
   "execution_count": 1,
   "id": "834fcd80-585b-41b4-a1da-894458d34d6f",
   "metadata": {},
   "outputs": [],
   "source": [
    "import numpy as np\n",
    "from sklearn.preprocessing import LabelBinarizer, StandardScaler\n",
    "\n",
    "from script.dataset import get_data, cols_emg, cols_emg_cal"
   ]
  },
  {
   "cell_type": "code",
   "execution_count": 2,
   "id": "379564bd-ffba-4702-b2f2-8e5a7fcdc42c",
   "metadata": {},
   "outputs": [],
   "source": [
    "X, y = get_data()"
   ]
  },
  {
   "cell_type": "code",
   "execution_count": 3,
   "id": "2de015cb-0677-432b-a2ac-7d18a88eb82e",
   "metadata": {},
   "outputs": [
    {
     "name": "stdout",
     "output_type": "stream",
     "text": [
      "data shape: (312, 100, 16)\n",
      "labels shape: (312, 4), classes: ['crimp_20' 'crimp_45' 'jug' 'sloper_30']\n"
     ]
    }
   ],
   "source": [
    "# extract center 100 data points from each set & one-hot encode labels\n",
    "window_size = 100\n",
    "data = list()\n",
    "labels = list()\n",
    "\n",
    "for i, count in X.value_counts('id').items():\n",
    "    start = int(count / 2 - window_size / 2)\n",
    "    idx_range = X[X['id'] == i].index[start:start + window_size]\n",
    "    data.append(np.array(X.iloc[idx_range][cols_emg + cols_emg_cal]))\n",
    "    labels.append(y[i])\n",
    "\n",
    "data = np.array(data)\n",
    "data_dim = data.shape\n",
    "print(f'data shape: {data_dim}')\n",
    "\n",
    "scaler = StandardScaler()\n",
    "data = data.reshape(-1, 8)  # reshape to 2D for scaling\n",
    "data = scaler.fit_transform(data)\n",
    "data = data.reshape(*data_dim)  # reshape back to original shape\n",
    "\n",
    "encoder = LabelBinarizer()\n",
    "labels = encoder.fit_transform(labels)\n",
    "print(f'labels shape: {labels.shape}, classes: {encoder.classes_}')"
   ]
  },
  {
   "cell_type": "code",
   "execution_count": null,
   "id": "8e8c7a06-e494-4c39-be4f-d815d9c17274",
   "metadata": {},
   "outputs": [],
   "source": []
  }
 ],
 "metadata": {
  "kernelspec": {
   "display_name": "Python 3 (ipykernel)",
   "language": "python",
   "name": "python3"
  },
  "language_info": {
   "codemirror_mode": {
    "name": "ipython",
    "version": 3
   },
   "file_extension": ".py",
   "mimetype": "text/x-python",
   "name": "python",
   "nbconvert_exporter": "python",
   "pygments_lexer": "ipython3",
   "version": "3.12.2"
  }
 },
 "nbformat": 4,
 "nbformat_minor": 5
}
