{
 "cells": [
  {
   "cell_type": "code",
   "execution_count": 1,
   "id": "834fcd80-585b-41b4-a1da-894458d34d6f",
   "metadata": {},
   "outputs": [],
   "source": [
    "import numpy as np\n",
    "from sklearn.preprocessing import LabelBinarizer, StandardScaler\n",
    "from sklearn.model_selection import train_test_split\n",
    "import torch\n",
    "import torch.nn as nn\n",
    "import torch.optim as optim\n",
    "\n",
    "from script.dataset import get_data, cols_emg, cols_emg_cal"
   ]
  },
  {
   "cell_type": "code",
   "execution_count": 2,
   "id": "379564bd-ffba-4702-b2f2-8e5a7fcdc42c",
   "metadata": {},
   "outputs": [],
   "source": [
    "X, y = get_data()"
   ]
  },
  {
   "cell_type": "code",
   "execution_count": 3,
   "id": "2de015cb-0677-432b-a2ac-7d18a88eb82e",
   "metadata": {},
   "outputs": [
    {
     "name": "stdout",
     "output_type": "stream",
     "text": [
      "data shape: (312, 100, 16)\n",
      "labels shape: (312, 4), classes: ['crimp_20' 'crimp_45' 'jug' 'sloper_30']\n"
     ]
    }
   ],
   "source": [
    "# extract center 100 data points from each set & one-hot encode labels\n",
    "\n",
    "window_size = 100\n",
    "data = list()\n",
    "labels = list()\n",
    "\n",
    "for i, count in X.value_counts('id').items():\n",
    "    start = int(count / 2 - window_size / 2)\n",
    "    idx_range = X[X['id'] == i].index[start:start + window_size]\n",
    "    data.append(np.array(X.iloc[idx_range][cols_emg + cols_emg_cal]))\n",
    "    labels.append(y[i])\n",
    "    \n",
    "data = np.array(data)\n",
    "data_dim = data.shape\n",
    "print(f'data shape: {data_dim}')\n",
    "\n",
    "scaler = StandardScaler()\n",
    "data = data.reshape(-1, 8)  # reshape to 2D for scaling\n",
    "data = scaler.fit_transform(data)\n",
    "data = data.reshape(*data_dim)  # reshape back to original shape\n",
    "\n",
    "encoder = LabelBinarizer()\n",
    "labels = encoder.fit_transform(labels)\n",
    "print(f'labels shape: {labels.shape}, classes: {encoder.classes_}')"
   ]
  },
  {
   "cell_type": "code",
   "execution_count": 4,
   "id": "f1c23fd9-615a-4c10-90e4-7744c80d692b",
   "metadata": {},
   "outputs": [
    {
     "name": "stdout",
     "output_type": "stream",
     "text": [
      "training data shape: (187, 100, 16)\n"
     ]
    }
   ],
   "source": [
    "data_train, data_test, labels_train, labels_test = train_test_split(data, labels, test_size=0.4, random_state=42)\n",
    "print(f'training data shape: {data_train.shape}')"
   ]
  },
  {
   "cell_type": "code",
   "execution_count": 5,
   "id": "8e8c7a06-e494-4c39-be4f-d815d9c17274",
   "metadata": {},
   "outputs": [],
   "source": [
    "# pytorch device & tensors\n",
    "\n",
    "# use gpu > apple silicon > cpu\n",
    "device = torch.device(\"cuda:0\" if torch.cuda.is_available() else (torch.device(\"mps\") if torch.backends.mps.is_available() else \"cpu\"))\n",
    "\n",
    "def dataset_to_tensors(data, labels):   \n",
    "    data = torch.tensor(data, dtype=torch.float32, device=device)\n",
    "    # change dimensions to (batch_size, num_features, seq_length)\n",
    "    data = data.transpose(1, 2)\n",
    "    labels = torch.tensor(labels, dtype=torch.float32, device=device)\n",
    "    return (data, labels)\n",
    "\n",
    "data_train, labels_train = dataset_to_tensors(data_train, labels_train)\n",
    "data_test, labels_test = dataset_to_tensors(data_test, labels_test)"
   ]
  },
  {
   "cell_type": "code",
   "execution_count": 6,
   "id": "f2f7bfc7-11fa-41c6-8369-41e936e65775",
   "metadata": {},
   "outputs": [],
   "source": [
    "# network\n",
    "class CNN(nn.Module):\n",
    "    def __init__(self, seq_length, kernel_size = 5):\n",
    "        super(CNN, self).__init__()\n",
    "\n",
    "        conv_diff = kernel_size - 1\n",
    "        lin_in = int(((seq_length - conv_diff) / 2 - conv_diff) / 2 * 64)\n",
    "        self.stack = nn.Sequential(\n",
    "            nn.Conv1d(in_channels=16, out_channels=32, kernel_size=kernel_size),\n",
    "            nn.ReLU(),\n",
    "            nn.MaxPool1d(kernel_size=2),\n",
    "            \n",
    "            nn.Conv1d(in_channels=32, out_channels=64, kernel_size=kernel_size),\n",
    "            nn.ReLU(),\n",
    "            nn.MaxPool1d(kernel_size=2),\n",
    "\n",
    "            nn.Flatten(),\n",
    "            nn.Linear(lin_in, 4),\n",
    "            nn.Softmax(dim=1)\n",
    "        )\n",
    "    \n",
    "    def forward(self, x):\n",
    "        i = torch.nn.Identity()\n",
    "        c = i(x)\n",
    "        c = self.stack(c)\n",
    "        return c"
   ]
  },
  {
   "cell_type": "code",
   "execution_count": 7,
   "id": "7d273b36-52a8-4d87-aaee-d45c474588da",
   "metadata": {},
   "outputs": [],
   "source": [
    "# Instantiate the model, define the loss function and the optimizer\n",
    "model = CNN(window_size).to(device)\n",
    "criterion = nn.CrossEntropyLoss()\n",
    "optimizer = optim.Adam(model.parameters(), lr=0.001)"
   ]
  },
  {
   "cell_type": "code",
   "execution_count": 8,
   "id": "14275865-eddc-41bd-b4d6-4fada2cef4e2",
   "metadata": {},
   "outputs": [
    {
     "name": "stdout",
     "output_type": "stream",
     "text": [
      "Epoch 1/20, Loss: 1.2884\n",
      "Epoch 2/20, Loss: 1.1861\n",
      "Epoch 3/20, Loss: 1.0845\n",
      "Epoch 4/20, Loss: 1.1096\n",
      "Epoch 5/20, Loss: 1.0510\n",
      "Epoch 6/20, Loss: 0.9695\n",
      "Epoch 7/20, Loss: 0.9614\n",
      "Epoch 8/20, Loss: 0.9608\n",
      "Epoch 9/20, Loss: 0.9831\n",
      "Epoch 10/20, Loss: 0.9375\n",
      "Epoch 11/20, Loss: 0.9357\n",
      "Epoch 12/20, Loss: 0.9242\n",
      "Epoch 13/20, Loss: 0.8755\n",
      "Epoch 14/20, Loss: 0.8906\n",
      "Epoch 15/20, Loss: 0.8713\n",
      "Epoch 16/20, Loss: 0.8925\n",
      "Epoch 17/20, Loss: 0.8814\n",
      "Epoch 18/20, Loss: 0.8625\n",
      "Epoch 19/20, Loss: 0.8572\n",
      "Epoch 20/20, Loss: 0.8492\n",
      "Training complete\n"
     ]
    }
   ],
   "source": [
    "from torch.utils.data import DataLoader, TensorDataset\n",
    "\n",
    "# Create a DataLoader\n",
    "dataset = TensorDataset(data_train, labels_train)\n",
    "dataloader = DataLoader(dataset, batch_size=8, shuffle=True)\n",
    "\n",
    "# Training loop\n",
    "num_epochs = 20\n",
    "best_loss = float('inf')\n",
    "\n",
    "for epoch in range(num_epochs):\n",
    "    model.train()\n",
    "    running_loss = 0.0\n",
    "    for inputs, targets in dataloader:\n",
    "        optimizer.zero_grad()\n",
    "        outputs = model(inputs)\n",
    "        loss = criterion(outputs, targets)\n",
    "        loss.backward()\n",
    "        optimizer.step()\n",
    "\n",
    "        running_loss += loss.item() * inputs.size(0)\n",
    "    \n",
    "    epoch_loss = running_loss / len(dataloader.dataset)\n",
    "    print(f'Epoch {epoch + 1}/{num_epochs}, Loss: {epoch_loss:.4f}')\n",
    "    \n",
    "    # Early stopping\n",
    "    if epoch_loss < best_loss:\n",
    "        best_loss = epoch_loss\n",
    "        torch.save(model.state_dict(), 'best_model.pth')\n",
    "\n",
    "print('Training complete')"
   ]
  },
  {
   "cell_type": "code",
   "execution_count": 9,
   "id": "ef1b9967-41f7-4209-a712-e52f240e6160",
   "metadata": {},
   "outputs": [
    {
     "name": "stdout",
     "output_type": "stream",
     "text": [
      "Test Accuracy: 0.7280\n"
     ]
    }
   ],
   "source": [
    "# Load the best model\n",
    "model.load_state_dict(torch.load('best_model.pth'))\n",
    "model.eval()\n",
    "\n",
    "with torch.no_grad():\n",
    "    outputs = model(data_test)\n",
    "    _, predicted = torch.max(outputs, 1)\n",
    "    _, true_labels = torch.max(labels_test, 1)\n",
    "    accuracy = (predicted == true_labels).sum().item() / true_labels.size(0)\n",
    "    print(f'Test Accuracy: {accuracy:.4f}')"
   ]
  },
  {
   "cell_type": "code",
   "execution_count": null,
   "id": "85325e7d-0c58-4529-9fbb-0f6c24820ecb",
   "metadata": {},
   "outputs": [],
   "source": []
  }
 ],
 "metadata": {
  "kernelspec": {
   "display_name": "Python 3 (ipykernel)",
   "language": "python",
   "name": "python3"
  },
  "language_info": {
   "codemirror_mode": {
    "name": "ipython",
    "version": 3
   },
   "file_extension": ".py",
   "mimetype": "text/x-python",
   "name": "python",
   "nbconvert_exporter": "python",
   "pygments_lexer": "ipython3",
   "version": "3.12.2"
  }
 },
 "nbformat": 4,
 "nbformat_minor": 5
}
