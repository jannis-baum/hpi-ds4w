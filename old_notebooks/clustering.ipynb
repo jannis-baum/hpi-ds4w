{
 "cells": [
  {
   "cell_type": "code",
   "execution_count": 1,
   "id": "8b849f68-dc3d-46dc-bc54-3c6e0c0718a0",
   "metadata": {},
   "outputs": [],
   "source": [
    "from sklearn.metrics import silhouette_score, davies_bouldin_score\n",
    "\n",
    "from script.dataset import get_data"
   ]
  },
  {
   "cell_type": "code",
   "execution_count": 2,
   "id": "d95c10f1-57ed-4f8b-9874-808ef7d82464",
   "metadata": {},
   "outputs": [],
   "source": [
    "X_cal, y = get_data(calibrated=True)\n",
    "X, _ = get_data(calibrated=False)"
   ]
  },
  {
   "cell_type": "code",
   "execution_count": 3,
   "id": "e91e4d84-5747-4307-a417-d3594f25c3d5",
   "metadata": {},
   "outputs": [],
   "source": [
    "def report_clustering_metrics(X, y):\n",
    "    print(f'silhouette score (higher better): {silhouette_score(X, y)}')\n",
    "    print(f'davies bouldin score (lower better): {davies_bouldin_score(X, y)}')"
   ]
  },
  {
   "cell_type": "code",
   "execution_count": 4,
   "id": "22bea6f7-8466-4535-b558-65893ce25a65",
   "metadata": {},
   "outputs": [
    {
     "name": "stdout",
     "output_type": "stream",
     "text": [
      "CLUSTERING OF ABSOLUTE SENSOR DATA\n",
      "silhouette score (higher better): 0.018772109648539093\n",
      "davies bouldin score (lower better): 4.096598390323827\n",
      "\n",
      "CLUSTERING OF CALIBRATED SENSOR DATA\n",
      "silhouette score (higher better): 0.005082368880735226\n",
      "davies bouldin score (lower better): 4.543896829644562\n"
     ]
    }
   ],
   "source": [
    "print('CLUSTERING OF ABSOLUTE SENSOR DATA')\n",
    "report_clustering_metrics(X, y['hold'])\n",
    "print('\\nCLUSTERING OF CALIBRATED SENSOR DATA')\n",
    "report_clustering_metrics(X_cal, y['hold'])"
   ]
  },
  {
   "cell_type": "code",
   "execution_count": null,
   "id": "9f5e633d-d905-4899-9f8c-a98f73395085",
   "metadata": {},
   "outputs": [],
   "source": []
  }
 ],
 "metadata": {
  "kernelspec": {
   "display_name": "Python 3 (ipykernel)",
   "language": "python",
   "name": "python3"
  },
  "language_info": {
   "codemirror_mode": {
    "name": "ipython",
    "version": 3
   },
   "file_extension": ".py",
   "mimetype": "text/x-python",
   "name": "python",
   "nbconvert_exporter": "python",
   "pygments_lexer": "ipython3",
   "version": "3.12.2"
  }
 },
 "nbformat": 4,
 "nbformat_minor": 5
}
