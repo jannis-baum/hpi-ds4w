{
 "cells": [
  {
   "cell_type": "code",
   "execution_count": 91,
   "id": "dc47d1a9-4cc2-45ad-8204-5933ccd6bf26",
   "metadata": {},
   "outputs": [],
   "source": [
    "import pandas as pd\n",
    "from sklearn.manifold import TSNE\n",
    "import matplotlib.pyplot as plt\n",
    "\n",
    "plt.rcParams[\"figure.figsize\"] = (12,9)"
   ]
  },
  {
   "cell_type": "code",
   "execution_count": 223,
   "id": "e40d353a-1296-4fc2-926a-d1ddec3fd72f",
   "metadata": {},
   "outputs": [],
   "source": [
    "def get_data(person: str):\n",
    "    path = f'data/0423/{person}-hangboard/data_labelled.csv'\n",
    "    with open(path, 'r') as fp:\n",
    "        data_raw = pd.read_csv(fp)\n",
    "        \n",
    "    X = data_raw[[f'EMG{i}' for i in range(8)]]\n",
    "    holds = data_raw['hold'] + '_' + data_raw['details']\n",
    "    names = pd.Series([person] * len(holds))\n",
    "    return X, holds, names"
   ]
  },
  {
   "cell_type": "code",
   "execution_count": 286,
   "id": "e2615663-53b2-4efd-9099-4b64a0aefc8b",
   "metadata": {},
   "outputs": [],
   "source": [
    "X, holds, names = (\n",
    "    pd.concat(col).reset_index(drop=True) for col in zip(*[\n",
    "        get_data(name) for name in ['jonas', 'gregor', 'nikolai', 'jannis'\n",
    "    ]])\n",
    ")"
   ]
  },
  {
   "cell_type": "code",
   "execution_count": 269,
   "id": "b84c5dd9-ec1c-4edf-9bc7-1eee16907ffd",
   "metadata": {},
   "outputs": [],
   "source": [
    "tsne = TSNE(2)\n",
    "X_tsne = tsne.fit_transform(X)"
   ]
  },
  {
   "cell_type": "code",
   "execution_count": 292,
   "id": "8d7b05ca-17b2-4169-a56d-d66eafbfc6b8",
   "metadata": {},
   "outputs": [
    {
     "data": {
      "text/plain": [
       "<Figure size 1200x900 with 0 Axes>"
      ]
     },
     "metadata": {},
     "output_type": "display_data"
    }
   ],
   "source": [
    "hold_labels = pd.Categorical(holds)\n",
    "name_labels = pd.Categorical(names)\n",
    "\n",
    "def _plot(condition, colors, title):\n",
    "    plot = plt.scatter(\n",
    "        X_tsne[condition,0], X_tsne[condition,1],\n",
    "        c=colors.codes[condition],\n",
    "        alpha=0.3, cmap='Accent')\n",
    "    plt.legend(handles=plot.legend_elements()[0], labels=list(colors.categories))\n",
    "    plt.title(title)\n",
    "    plt.axis('off')\n",
    "    plt.savefig(f'{title}.png')\n",
    "\n",
    "for h in hold_labels.categories:\n",
    "    _plot(holds == h, name_labels, h)\n",
    "    plt.clf()\n",
    "    \n",
    "for n in name_labels.categories:\n",
    "    _plot((names == n) & (~holds.isna()), hold_labels, n)\n",
    "    plt.clf()"
   ]
  },
  {
   "cell_type": "code",
   "execution_count": null,
   "id": "419d64f0-fdc5-486d-a045-57f852c298cf",
   "metadata": {},
   "outputs": [],
   "source": []
  }
 ],
 "metadata": {
  "kernelspec": {
   "display_name": "ds4w",
   "language": "python",
   "name": "ds4w"
  },
  "language_info": {
   "codemirror_mode": {
    "name": "ipython",
    "version": 3
   },
   "file_extension": ".py",
   "mimetype": "text/x-python",
   "name": "python",
   "nbconvert_exporter": "python",
   "pygments_lexer": "ipython3",
   "version": "3.12.2"
  }
 },
 "nbformat": 4,
 "nbformat_minor": 5
}
