{
 "cells": [
  {
   "cell_type": "code",
   "execution_count": 20,
   "id": "bad06ad9",
   "metadata": {
    "tags": []
   },
   "outputs": [],
   "source": [
    "# add parent dir to sys.path so we can import from repo base\n",
    "import os; import sys; sys.path.append(os.path.dirname(os.path.realpath(os.getcwd())))"
   ]
  },
  {
   "cell_type": "code",
   "execution_count": 22,
   "id": "4b81026c",
   "metadata": {
    "tags": []
   },
   "outputs": [],
   "source": [
    "import matplotlib.pyplot as plt\n",
    "import numpy as np\n",
    "import pandas as pd\n",
    "\n",
    "from sklearn.ensemble import RandomForestClassifier\n",
    "from sklearn.manifold import TSNE\n",
    "from sklearn.model_selection import train_test_split, KFold\n",
    "from sklearn.metrics import classification_report\n",
    "from sklearn.metrics import accuracy_score, recall_score, f1_score\n",
    "from sklearn.pipeline import Pipeline\n",
    "\n",
    "from tsfresh.transformers import RelevantFeatureAugmenter\n",
    "\n",
    "from script.dataset import get_data\n",
    "from script.visualization import report_cm"
   ]
  },
  {
   "cell_type": "code",
   "execution_count": 24,
   "id": "8d33c4c1",
   "metadata": {
    "tags": []
   },
   "outputs": [],
   "source": [
    "# Parameters\n",
    "leave_out = 'p1'\n",
    "k_folds = 5\n",
    "random_state = 42"
   ]
  },
  {
   "cell_type": "code",
   "execution_count": 26,
   "id": "017d19b1",
   "metadata": {
    "tags": []
   },
   "outputs": [],
   "source": [
    "# Load data\n",
    "ts, y = get_data(simplify=False)\n",
    "\n",
    "# Prepare the DataFrame\n",
    "X = pd.DataFrame(index=y.index)\n",
    "split = y.index.str.contains(leave_out)\n",
    "X_train_full, X_test, y_train_full, y_test = (X[~split], X[split], y[~split], y[split])"
   ]
  },
  {
   "cell_type": "code",
   "execution_count": 28,
   "id": "7a658640",
   "metadata": {
    "tags": []
   },
   "outputs": [],
   "source": [
    "# Initialize KFold\n",
    "kf = KFold(n_splits=k_folds, shuffle=True, random_state=random_state)\n",
    "best_model = None\n",
    "best_score = 0"
   ]
  },
  {
   "cell_type": "code",
   "execution_count": 30,
   "id": "e75c4e2f",
   "metadata": {
    "tags": []
   },
   "outputs": [
    {
     "name": "stdout",
     "output_type": "stream",
     "text": [
      "Fold 1/5\n"
     ]
    },
    {
     "name": "stderr",
     "output_type": "stream",
     "text": [
      "Feature Extraction: 100%|███████████████████████| 20/20 [00:31<00:00,  1.60s/it]\n",
      "/opt/anaconda3/lib/python3.11/site-packages/tsfresh/utilities/dataframe_functions.py:198: RuntimeWarning: The columns ['EMG_4_cal__query_similarity_count__query_None__threshold_0.0'\n",
      " 'EMG_5_cal__query_similarity_count__query_None__threshold_0.0'\n",
      " 'EMG_6_cal__query_similarity_count__query_None__threshold_0.0'\n",
      " 'EMG_7_cal__query_similarity_count__query_None__threshold_0.0'\n",
      " 'EMG_0__query_similarity_count__query_None__threshold_0.0'\n",
      " 'EMG_1__query_similarity_count__query_None__threshold_0.0'\n",
      " 'EMG_2__query_similarity_count__query_None__threshold_0.0'\n",
      " 'EMG_3__query_similarity_count__query_None__threshold_0.0'\n",
      " 'EMG_4__query_similarity_count__query_None__threshold_0.0'\n",
      " 'EMG_5__query_similarity_count__query_None__threshold_0.0'\n",
      " 'EMG_6__query_similarity_count__query_None__threshold_0.0'\n",
      " 'EMG_7__query_similarity_count__query_None__threshold_0.0'\n",
      " 'EMG_0_cal__query_similarity_count__query_None__threshold_0.0'\n",
      " 'EMG_1_cal__query_similarity_count__query_None__threshold_0.0'\n",
      " 'EMG_2_cal__query_similarity_count__query_None__threshold_0.0'\n",
      " 'EMG_3_cal__query_similarity_count__query_None__threshold_0.0'] did not have any finite values. Filling with zeros.\n",
      "  warnings.warn(\n",
      "Feature Extraction: 100%|███████████████████████| 20/20 [00:04<00:00,  4.74it/s]\n"
     ]
    },
    {
     "name": "stdout",
     "output_type": "stream",
     "text": [
      "Validation Accuracy: 0.7447\n"
     ]
    },
    {
     "name": "stderr",
     "output_type": "stream",
     "text": [
      "Feature Extraction: 100%|███████████████████████| 20/20 [00:06<00:00,  3.27it/s]\n"
     ]
    },
    {
     "name": "stdout",
     "output_type": "stream",
     "text": [
      "Fold 2/5\n"
     ]
    },
    {
     "name": "stderr",
     "output_type": "stream",
     "text": [
      "Feature Extraction: 100%|███████████████████████| 20/20 [00:36<00:00,  1.81s/it]\n",
      "/opt/anaconda3/lib/python3.11/site-packages/tsfresh/utilities/dataframe_functions.py:198: RuntimeWarning: The columns ['EMG_0_cal__query_similarity_count__query_None__threshold_0.0'\n",
      " 'EMG_1_cal__query_similarity_count__query_None__threshold_0.0'\n",
      " 'EMG_2_cal__query_similarity_count__query_None__threshold_0.0'\n",
      " 'EMG_3_cal__query_similarity_count__query_None__threshold_0.0'\n",
      " 'EMG_4_cal__query_similarity_count__query_None__threshold_0.0'\n",
      " 'EMG_5_cal__query_similarity_count__query_None__threshold_0.0'\n",
      " 'EMG_6_cal__query_similarity_count__query_None__threshold_0.0'\n",
      " 'EMG_7_cal__query_similarity_count__query_None__threshold_0.0'\n",
      " 'EMG_0__query_similarity_count__query_None__threshold_0.0'\n",
      " 'EMG_1__query_similarity_count__query_None__threshold_0.0'\n",
      " 'EMG_2__query_similarity_count__query_None__threshold_0.0'\n",
      " 'EMG_3__query_similarity_count__query_None__threshold_0.0'\n",
      " 'EMG_4__query_similarity_count__query_None__threshold_0.0'\n",
      " 'EMG_5__query_similarity_count__query_None__threshold_0.0'\n",
      " 'EMG_6__query_similarity_count__query_None__threshold_0.0'\n",
      " 'EMG_7__query_similarity_count__query_None__threshold_0.0'] did not have any finite values. Filling with zeros.\n",
      "  warnings.warn(\n",
      "Feature Extraction: 100%|███████████████████████| 20/20 [00:04<00:00,  4.62it/s]\n"
     ]
    },
    {
     "name": "stdout",
     "output_type": "stream",
     "text": [
      "Validation Accuracy: 0.7447\n"
     ]
    },
    {
     "name": "stderr",
     "output_type": "stream",
     "text": [
      "Feature Extraction: 100%|███████████████████████| 20/20 [00:07<00:00,  2.81it/s]\n"
     ]
    },
    {
     "name": "stdout",
     "output_type": "stream",
     "text": [
      "Fold 3/5\n"
     ]
    },
    {
     "name": "stderr",
     "output_type": "stream",
     "text": [
      "Feature Extraction: 100%|███████████████████████| 20/20 [00:38<00:00,  1.93s/it]\n",
      "/opt/anaconda3/lib/python3.11/site-packages/tsfresh/utilities/dataframe_functions.py:198: RuntimeWarning: The columns ['EMG_7_cal__query_similarity_count__query_None__threshold_0.0'\n",
      " 'EMG_0__query_similarity_count__query_None__threshold_0.0'\n",
      " 'EMG_1__query_similarity_count__query_None__threshold_0.0'\n",
      " 'EMG_2__query_similarity_count__query_None__threshold_0.0'\n",
      " 'EMG_3__query_similarity_count__query_None__threshold_0.0'\n",
      " 'EMG_4__query_similarity_count__query_None__threshold_0.0'\n",
      " 'EMG_5__query_similarity_count__query_None__threshold_0.0'\n",
      " 'EMG_6__query_similarity_count__query_None__threshold_0.0'\n",
      " 'EMG_7__query_similarity_count__query_None__threshold_0.0'\n",
      " 'EMG_0_cal__query_similarity_count__query_None__threshold_0.0'\n",
      " 'EMG_1_cal__query_similarity_count__query_None__threshold_0.0'\n",
      " 'EMG_2_cal__query_similarity_count__query_None__threshold_0.0'\n",
      " 'EMG_3_cal__query_similarity_count__query_None__threshold_0.0'\n",
      " 'EMG_4_cal__query_similarity_count__query_None__threshold_0.0'\n",
      " 'EMG_5_cal__query_similarity_count__query_None__threshold_0.0'\n",
      " 'EMG_6_cal__query_similarity_count__query_None__threshold_0.0'] did not have any finite values. Filling with zeros.\n",
      "  warnings.warn(\n",
      "Feature Extraction: 100%|███████████████████████| 20/20 [00:04<00:00,  4.17it/s]\n"
     ]
    },
    {
     "name": "stdout",
     "output_type": "stream",
     "text": [
      "Validation Accuracy: 0.8913\n"
     ]
    },
    {
     "name": "stderr",
     "output_type": "stream",
     "text": [
      "Feature Extraction: 100%|███████████████████████| 20/20 [00:06<00:00,  2.90it/s]\n"
     ]
    },
    {
     "name": "stdout",
     "output_type": "stream",
     "text": [
      "Fold 4/5\n"
     ]
    },
    {
     "name": "stderr",
     "output_type": "stream",
     "text": [
      "Feature Extraction: 100%|███████████████████████| 20/20 [00:36<00:00,  1.84s/it]\n",
      "/opt/anaconda3/lib/python3.11/site-packages/tsfresh/utilities/dataframe_functions.py:198: RuntimeWarning: The columns ['EMG_7_cal__query_similarity_count__query_None__threshold_0.0'\n",
      " 'EMG_0__query_similarity_count__query_None__threshold_0.0'\n",
      " 'EMG_1__query_similarity_count__query_None__threshold_0.0'\n",
      " 'EMG_2__query_similarity_count__query_None__threshold_0.0'\n",
      " 'EMG_3__query_similarity_count__query_None__threshold_0.0'\n",
      " 'EMG_4__query_similarity_count__query_None__threshold_0.0'\n",
      " 'EMG_5__query_similarity_count__query_None__threshold_0.0'\n",
      " 'EMG_6__query_similarity_count__query_None__threshold_0.0'\n",
      " 'EMG_7__query_similarity_count__query_None__threshold_0.0'\n",
      " 'EMG_0_cal__query_similarity_count__query_None__threshold_0.0'\n",
      " 'EMG_1_cal__query_similarity_count__query_None__threshold_0.0'\n",
      " 'EMG_2_cal__query_similarity_count__query_None__threshold_0.0'\n",
      " 'EMG_3_cal__query_similarity_count__query_None__threshold_0.0'\n",
      " 'EMG_4_cal__query_similarity_count__query_None__threshold_0.0'\n",
      " 'EMG_5_cal__query_similarity_count__query_None__threshold_0.0'\n",
      " 'EMG_6_cal__query_similarity_count__query_None__threshold_0.0'] did not have any finite values. Filling with zeros.\n",
      "  warnings.warn(\n",
      "Feature Extraction: 100%|███████████████████████| 20/20 [00:05<00:00,  3.68it/s]\n"
     ]
    },
    {
     "name": "stdout",
     "output_type": "stream",
     "text": [
      "Validation Accuracy: 0.8043\n"
     ]
    },
    {
     "name": "stderr",
     "output_type": "stream",
     "text": [
      "Feature Extraction: 100%|███████████████████████| 20/20 [00:07<00:00,  2.70it/s]\n"
     ]
    },
    {
     "name": "stdout",
     "output_type": "stream",
     "text": [
      "Fold 5/5\n"
     ]
    },
    {
     "name": "stderr",
     "output_type": "stream",
     "text": [
      "Feature Extraction: 100%|███████████████████████| 20/20 [00:41<00:00,  2.05s/it]\n",
      "/opt/anaconda3/lib/python3.11/site-packages/tsfresh/utilities/dataframe_functions.py:198: RuntimeWarning: The columns ['EMG_7_cal__query_similarity_count__query_None__threshold_0.0'\n",
      " 'EMG_0__query_similarity_count__query_None__threshold_0.0'\n",
      " 'EMG_1__query_similarity_count__query_None__threshold_0.0'\n",
      " 'EMG_2__query_similarity_count__query_None__threshold_0.0'\n",
      " 'EMG_3__query_similarity_count__query_None__threshold_0.0'\n",
      " 'EMG_4__query_similarity_count__query_None__threshold_0.0'\n",
      " 'EMG_5__query_similarity_count__query_None__threshold_0.0'\n",
      " 'EMG_6__query_similarity_count__query_None__threshold_0.0'\n",
      " 'EMG_7__query_similarity_count__query_None__threshold_0.0'\n",
      " 'EMG_0_cal__query_similarity_count__query_None__threshold_0.0'\n",
      " 'EMG_1_cal__query_similarity_count__query_None__threshold_0.0'\n",
      " 'EMG_2_cal__query_similarity_count__query_None__threshold_0.0'\n",
      " 'EMG_3_cal__query_similarity_count__query_None__threshold_0.0'\n",
      " 'EMG_4_cal__query_similarity_count__query_None__threshold_0.0'\n",
      " 'EMG_5_cal__query_similarity_count__query_None__threshold_0.0'\n",
      " 'EMG_6_cal__query_similarity_count__query_None__threshold_0.0'] did not have any finite values. Filling with zeros.\n",
      "  warnings.warn(\n",
      "Feature Extraction: 100%|███████████████████████| 20/20 [00:05<00:00,  3.94it/s]\n"
     ]
    },
    {
     "name": "stdout",
     "output_type": "stream",
     "text": [
      "Validation Accuracy: 0.7826\n"
     ]
    },
    {
     "name": "stderr",
     "output_type": "stream",
     "text": [
      "Feature Extraction: 100%|███████████████████████| 20/20 [00:07<00:00,  2.81it/s]\n"
     ]
    },
    {
     "name": "stdout",
     "output_type": "stream",
     "text": [
      "Results saved to /Users/gregorlederer/Documents/Coding/HPI_Data_Science_for_Wearables/hpi-ds4w/models/rf_test_performance_per_fold.csv\n"
     ]
    }
   ],
   "source": [
    "# Initialize lists for performance metrics\n",
    "rf_accuracies = []\n",
    "rf_recalls = []\n",
    "rf_fscores = []\n",
    "\n",
    "def test(model, X_test, y_test):\n",
    "    y_pred = model.predict(X_test)\n",
    "    accuracy = accuracy_score(y_test, y_pred)\n",
    "    recall = recall_score(y_test, y_pred, average='macro')\n",
    "    fscore = f1_score(y_test, y_pred, average='macro')\n",
    "    return accuracy, recall, fscore\n",
    "\n",
    "\n",
    "# Perform k-fold cross-validation\n",
    "for fold, (train_index, val_index) in enumerate(kf.split(X_train_full)):\n",
    "    print(f'Fold {fold + 1}/{k_folds}')\n",
    "    \n",
    "    # Split the data\n",
    "    X_train, X_val = X_train_full.iloc[train_index], X_train_full.iloc[val_index]\n",
    "    y_train, y_val = y_train_full.iloc[train_index], y_train_full.iloc[val_index]\n",
    "    \n",
    "    # Define pipeline\n",
    "    ppl = Pipeline([\n",
    "        ('augmenter', RelevantFeatureAugmenter(column_id='id', column_sort='time')),\n",
    "        ('classifier', RandomForestClassifier(random_state=random_state))\n",
    "    ])\n",
    "    ppl.set_params(augmenter__timeseries_container=ts)\n",
    "\n",
    "    # Train model\n",
    "    ppl.fit(X_train, y_train)\n",
    "    \n",
    "    # Validate model\n",
    "    y_val_pred = ppl.predict(X_val)\n",
    "    val_score = accuracy_score(y_val, y_val_pred)\n",
    "    print(f'Validation Accuracy: {val_score:.4f}')\n",
    "    \n",
    "    # Save the best model\n",
    "    if val_score > best_score:\n",
    "        best_score = val_score\n",
    "        best_model = ppl\n",
    "    \n",
    "    # Test the model using X_test and y_test, assumed to be defined outside of the loop\n",
    "    test_accuracy, test_recall, test_fscore = test(ppl, X_test, y_test)\n",
    "    rf_accuracies.append(test_accuracy)\n",
    "    rf_recalls.append(test_recall)\n",
    "    rf_fscores.append(test_fscore)\n",
    "    \n",
    "\n",
    "# Create a DataFrame for RF Test-Performance-Per-Fold\n",
    "performance_data = {\n",
    "    \"K-Fold\": list(range(1, k_folds + 1)),\n",
    "    \"RF_Accuracy\": rf_accuracies,\n",
    "    \"RF_Recall\": rf_recalls,\n",
    "    \"RF_FScore\": rf_fscores\n",
    "}\n",
    "df = pd.DataFrame(performance_data)\n",
    "\n",
    "# Save to CSV in the current working directory\n",
    "csv_path = os.path.join(os.getcwd(), 'rf_test_performance_per_fold.csv')\n",
    "df.to_csv(csv_path, index=False)\n",
    "print(f'Results saved to {csv_path}')\n"
   ]
  },
  {
   "cell_type": "code",
   "execution_count": 32,
   "id": "e0e6a134-26f4-48e1-bb27-16d9e754a557",
   "metadata": {
    "tags": []
   },
   "outputs": [
    {
     "name": "stdout",
     "output_type": "stream",
     "text": [
      "Results saved to rf_test_performance_per_fold.csv\n"
     ]
    }
   ],
   "source": [
    "# Save to CSV in the current working directory\n",
    "csv_path = 'rf_test_performance_per_fold.csv'\n",
    "df.to_csv(csv_path, index=False)\n",
    "print(f'Results saved to {csv_path}')"
   ]
  },
  {
   "cell_type": "code",
   "execution_count": 18,
   "id": "c5a53f97",
   "metadata": {
    "tags": []
   },
   "outputs": [
    {
     "name": "stdout",
     "output_type": "stream",
     "text": [
      "Best Validation Accuracy: 0.9565\n"
     ]
    },
    {
     "name": "stderr",
     "output_type": "stream",
     "text": [
      "Feature Extraction: 100%|███████████████████████| 20/20 [00:05<00:00,  3.95it/s]\n"
     ]
    },
    {
     "data": {
      "text/markdown": [
       "# Results: p1"
      ],
      "text/plain": [
       "<IPython.core.display.Markdown object>"
      ]
     },
     "metadata": {},
     "output_type": "display_data"
    },
    {
     "name": "stdout",
     "output_type": "stream",
     "text": [
      "accuracy: 0.9375\n"
     ]
    },
    {
     "data": {
      "image/png": "[encoded data removed]",
      "text/plain": [
       "<Figure size 640x480 with 2 Axes>"
      ]
     },
     "metadata": {},
     "output_type": "display_data"
    },
    {
     "name": "stdout",
     "output_type": "stream",
     "text": [
      "              precision    recall  f1-score   support\n",
      "\n",
      "       crimp       0.89      1.00      0.94        40\n",
      "  sloper_jug       1.00      0.88      0.93        40\n",
      "\n",
      "    accuracy                           0.94        80\n",
      "   macro avg       0.94      0.94      0.94        80\n",
      "weighted avg       0.94      0.94      0.94        80\n",
      "\n"
     ]
    }
   ],
   "source": [
    "# Final evaluation on the test set\n",
    "print(f'Best Validation Accuracy: {best_score:.4f}')\n",
    "y_test_pred = best_model.predict(X_test)\n",
    "report_cm(f'Results: {leave_out}', y_test, y_test_pred, best_model.named_steps['classifier'].classes_)\n",
    "print(classification_report(y_test, y_test_pred))"
   ]
  },
  {
   "cell_type": "code",
   "execution_count": null,
   "id": "5a51a4ea",
   "metadata": {},
   "outputs": [],
   "source": []
  }
 ],
 "metadata": {
  "kernelspec": {
   "display_name": "Python 3 (ipykernel)",
   "language": "python",
   "name": "python3"
  },
  "language_info": {
   "codemirror_mode": {
    "name": "ipython",
    "version": 3
   },
   "file_extension": ".py",
   "mimetype": "text/x-python",
   "name": "python",
   "nbconvert_exporter": "python",
   "pygments_lexer": "ipython3",
   "version": "3.11.7"
  }
 },
 "nbformat": 4,
 "nbformat_minor": 5
}
