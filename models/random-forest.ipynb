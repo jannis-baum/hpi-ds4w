{
 "cells": [
  {
   "cell_type": "code",
   "execution_count": 1,
   "id": "bad06ad9",
   "metadata": {},
   "outputs": [],
   "source": [
    "# add parent dir to sys.path so we can import from repo base\n",
    "import os; import sys; sys.path.append(os.path.dirname(os.path.realpath(os.getcwd())))"
   ]
  },
  {
   "cell_type": "code",
   "execution_count": 2,
   "id": "4b81026c",
   "metadata": {},
   "outputs": [],
   "source": [
    "import matplotlib.pyplot as plt\n",
    "import numpy as np\n",
    "import pandas as pd\n",
    "\n",
    "from sklearn.ensemble import RandomForestClassifier\n",
    "from sklearn.manifold import TSNE\n",
    "from sklearn.model_selection import train_test_split, KFold\n",
    "from sklearn.metrics import classification_report\n",
    "from sklearn.metrics import accuracy_score\n",
    "from sklearn.pipeline import Pipeline\n",
    "\n",
    "from tsfresh.transformers import RelevantFeatureAugmenter\n",
    "\n",
    "from script.dataset import get_data\n",
    "from script.visualization import report_cm"
   ]
  },
  {
   "cell_type": "code",
   "execution_count": 3,
   "id": "8d33c4c1",
   "metadata": {},
   "outputs": [],
   "source": [
    "# Parameters\n",
    "leave_out = 'p1'\n",
    "k_folds = 5\n",
    "random_state = 42"
   ]
  },
  {
   "cell_type": "code",
   "execution_count": 4,
   "id": "017d19b1",
   "metadata": {},
   "outputs": [],
   "source": [
    "# Load data\n",
    "ts, y = get_data()\n",
    "\n",
    "# Prepare the DataFrame\n",
    "X = pd.DataFrame(index=y.index)\n",
    "split = y.index.str.contains(leave_out)\n",
    "X_train_full, X_test, y_train_full, y_test = (X[~split], X[split], y[~split], y[split])"
   ]
  },
  {
   "cell_type": "code",
   "execution_count": 5,
   "id": "7a658640",
   "metadata": {},
   "outputs": [],
   "source": [
    "# Initialize KFold\n",
    "kf = KFold(n_splits=k_folds, shuffle=True, random_state=random_state)\n",
    "best_model = None\n",
    "best_score = 0"
   ]
  },
  {
   "cell_type": "code",
   "execution_count": 6,
   "id": "e75c4e2f",
   "metadata": {},
   "outputs": [
    {
     "name": "stdout",
     "output_type": "stream",
     "text": [
      "Fold 1/5\n"
     ]
    },
    {
     "name": "stderr",
     "output_type": "stream",
     "text": [
      "Feature Extraction: 100%|██████████████████████████████████████████████████████████████████████████████████████████████████████| 25/25 [00:32<00:00,  1.30s/it]\n",
      "/Users/jannisbaum/_/hpi/terms/msc-2/ds4w/.pyv/lib/python3.12/site-packages/tsfresh/utilities/dataframe_functions.py:198: RuntimeWarning: The columns ['EMG_4_cal__query_similarity_count__query_None__threshold_0.0'\n",
      " 'EMG_5_cal__query_similarity_count__query_None__threshold_0.0'\n",
      " 'EMG_6_cal__query_similarity_count__query_None__threshold_0.0'\n",
      " 'EMG_7_cal__query_similarity_count__query_None__threshold_0.0'\n",
      " 'EMG_0__query_similarity_count__query_None__threshold_0.0'\n",
      " 'EMG_1__query_similarity_count__query_None__threshold_0.0'\n",
      " 'EMG_2__query_similarity_count__query_None__threshold_0.0'\n",
      " 'EMG_3__query_similarity_count__query_None__threshold_0.0'\n",
      " 'EMG_4__query_similarity_count__query_None__threshold_0.0'\n",
      " 'EMG_5__query_similarity_count__query_None__threshold_0.0'\n",
      " 'EMG_6__query_similarity_count__query_None__threshold_0.0'\n",
      " 'EMG_7__query_similarity_count__query_None__threshold_0.0'\n",
      " 'EMG_0_cal__query_similarity_count__query_None__threshold_0.0'\n",
      " 'EMG_1_cal__query_similarity_count__query_None__threshold_0.0'\n",
      " 'EMG_2_cal__query_similarity_count__query_None__threshold_0.0'\n",
      " 'EMG_3_cal__query_similarity_count__query_None__threshold_0.0'] did not have any finite values. Filling with zeros.\n",
      "  warnings.warn(\n",
      "Feature Extraction: 100%|██████████████████████████████████████████████████████████████████████████████████████████████████████| 25/25 [00:03<00:00,  7.90it/s]\n"
     ]
    },
    {
     "name": "stdout",
     "output_type": "stream",
     "text": [
      "Validation Accuracy: 0.8298\n",
      "Fold 2/5\n"
     ]
    },
    {
     "name": "stderr",
     "output_type": "stream",
     "text": [
      "Feature Extraction: 100%|██████████████████████████████████████████████████████████████████████████████████████████████████████| 25/25 [00:32<00:00,  1.31s/it]\n",
      "/Users/jannisbaum/_/hpi/terms/msc-2/ds4w/.pyv/lib/python3.12/site-packages/tsfresh/utilities/dataframe_functions.py:198: RuntimeWarning: The columns ['EMG_4_cal__query_similarity_count__query_None__threshold_0.0'\n",
      " 'EMG_5_cal__query_similarity_count__query_None__threshold_0.0'\n",
      " 'EMG_6_cal__query_similarity_count__query_None__threshold_0.0'\n",
      " 'EMG_7_cal__query_similarity_count__query_None__threshold_0.0'\n",
      " 'EMG_0__query_similarity_count__query_None__threshold_0.0'\n",
      " 'EMG_1__query_similarity_count__query_None__threshold_0.0'\n",
      " 'EMG_2__query_similarity_count__query_None__threshold_0.0'\n",
      " 'EMG_3__query_similarity_count__query_None__threshold_0.0'\n",
      " 'EMG_4__query_similarity_count__query_None__threshold_0.0'\n",
      " 'EMG_5__query_similarity_count__query_None__threshold_0.0'\n",
      " 'EMG_6__query_similarity_count__query_None__threshold_0.0'\n",
      " 'EMG_7__query_similarity_count__query_None__threshold_0.0'\n",
      " 'EMG_0_cal__query_similarity_count__query_None__threshold_0.0'\n",
      " 'EMG_1_cal__query_similarity_count__query_None__threshold_0.0'\n",
      " 'EMG_2_cal__query_similarity_count__query_None__threshold_0.0'\n",
      " 'EMG_3_cal__query_similarity_count__query_None__threshold_0.0'] did not have any finite values. Filling with zeros.\n",
      "  warnings.warn(\n",
      "Feature Extraction: 100%|██████████████████████████████████████████████████████████████████████████████████████████████████████| 25/25 [00:02<00:00,  8.42it/s]\n"
     ]
    },
    {
     "name": "stdout",
     "output_type": "stream",
     "text": [
      "Validation Accuracy: 0.8511\n",
      "Fold 3/5\n"
     ]
    },
    {
     "name": "stderr",
     "output_type": "stream",
     "text": [
      "Feature Extraction: 100%|██████████████████████████████████████████████████████████████████████████████████████████████████████| 25/25 [00:33<00:00,  1.32s/it]\n",
      "/Users/jannisbaum/_/hpi/terms/msc-2/ds4w/.pyv/lib/python3.12/site-packages/tsfresh/utilities/dataframe_functions.py:198: RuntimeWarning: The columns ['EMG_0__query_similarity_count__query_None__threshold_0.0'\n",
      " 'EMG_1__query_similarity_count__query_None__threshold_0.0'\n",
      " 'EMG_2__query_similarity_count__query_None__threshold_0.0'\n",
      " 'EMG_3__query_similarity_count__query_None__threshold_0.0'\n",
      " 'EMG_4__query_similarity_count__query_None__threshold_0.0'\n",
      " 'EMG_5__query_similarity_count__query_None__threshold_0.0'\n",
      " 'EMG_6__query_similarity_count__query_None__threshold_0.0'\n",
      " 'EMG_7__query_similarity_count__query_None__threshold_0.0'\n",
      " 'EMG_0_cal__query_similarity_count__query_None__threshold_0.0'\n",
      " 'EMG_1_cal__query_similarity_count__query_None__threshold_0.0'\n",
      " 'EMG_2_cal__query_similarity_count__query_None__threshold_0.0'\n",
      " 'EMG_3_cal__query_similarity_count__query_None__threshold_0.0'\n",
      " 'EMG_4_cal__query_similarity_count__query_None__threshold_0.0'\n",
      " 'EMG_5_cal__query_similarity_count__query_None__threshold_0.0'\n",
      " 'EMG_6_cal__query_similarity_count__query_None__threshold_0.0'\n",
      " 'EMG_7_cal__query_similarity_count__query_None__threshold_0.0'] did not have any finite values. Filling with zeros.\n",
      "  warnings.warn(\n",
      "Feature Extraction: 100%|██████████████████████████████████████████████████████████████████████████████████████████████████████| 25/25 [00:03<00:00,  7.40it/s]\n"
     ]
    },
    {
     "name": "stdout",
     "output_type": "stream",
     "text": [
      "Validation Accuracy: 0.8261\n",
      "Fold 4/5\n"
     ]
    },
    {
     "name": "stderr",
     "output_type": "stream",
     "text": [
      "Feature Extraction: 100%|██████████████████████████████████████████████████████████████████████████████████████████████████████| 25/25 [00:30<00:00,  1.23s/it]\n",
      "/Users/jannisbaum/_/hpi/terms/msc-2/ds4w/.pyv/lib/python3.12/site-packages/tsfresh/utilities/dataframe_functions.py:198: RuntimeWarning: The columns ['EMG_0__query_similarity_count__query_None__threshold_0.0'\n",
      " 'EMG_1__query_similarity_count__query_None__threshold_0.0'\n",
      " 'EMG_2__query_similarity_count__query_None__threshold_0.0'\n",
      " 'EMG_3__query_similarity_count__query_None__threshold_0.0'\n",
      " 'EMG_4__query_similarity_count__query_None__threshold_0.0'\n",
      " 'EMG_5__query_similarity_count__query_None__threshold_0.0'\n",
      " 'EMG_6__query_similarity_count__query_None__threshold_0.0'\n",
      " 'EMG_7__query_similarity_count__query_None__threshold_0.0'\n",
      " 'EMG_0_cal__query_similarity_count__query_None__threshold_0.0'\n",
      " 'EMG_1_cal__query_similarity_count__query_None__threshold_0.0'\n",
      " 'EMG_2_cal__query_similarity_count__query_None__threshold_0.0'\n",
      " 'EMG_3_cal__query_similarity_count__query_None__threshold_0.0'\n",
      " 'EMG_4_cal__query_similarity_count__query_None__threshold_0.0'\n",
      " 'EMG_5_cal__query_similarity_count__query_None__threshold_0.0'\n",
      " 'EMG_6_cal__query_similarity_count__query_None__threshold_0.0'\n",
      " 'EMG_7_cal__query_similarity_count__query_None__threshold_0.0'] did not have any finite values. Filling with zeros.\n",
      "  warnings.warn(\n",
      "Feature Extraction: 100%|██████████████████████████████████████████████████████████████████████████████████████████████████████| 25/25 [00:04<00:00,  6.12it/s]\n"
     ]
    },
    {
     "name": "stdout",
     "output_type": "stream",
     "text": [
      "Validation Accuracy: 0.9783\n",
      "Fold 5/5\n"
     ]
    },
    {
     "name": "stderr",
     "output_type": "stream",
     "text": [
      "Feature Extraction: 100%|██████████████████████████████████████████████████████████████████████████████████████████████████████| 25/25 [00:32<00:00,  1.32s/it]\n",
      "/Users/jannisbaum/_/hpi/terms/msc-2/ds4w/.pyv/lib/python3.12/site-packages/tsfresh/utilities/dataframe_functions.py:198: RuntimeWarning: The columns ['EMG_0__query_similarity_count__query_None__threshold_0.0'\n",
      " 'EMG_1__query_similarity_count__query_None__threshold_0.0'\n",
      " 'EMG_2__query_similarity_count__query_None__threshold_0.0'\n",
      " 'EMG_3__query_similarity_count__query_None__threshold_0.0'\n",
      " 'EMG_4__query_similarity_count__query_None__threshold_0.0'\n",
      " 'EMG_5__query_similarity_count__query_None__threshold_0.0'\n",
      " 'EMG_6__query_similarity_count__query_None__threshold_0.0'\n",
      " 'EMG_7__query_similarity_count__query_None__threshold_0.0'\n",
      " 'EMG_0_cal__query_similarity_count__query_None__threshold_0.0'\n",
      " 'EMG_1_cal__query_similarity_count__query_None__threshold_0.0'\n",
      " 'EMG_2_cal__query_similarity_count__query_None__threshold_0.0'\n",
      " 'EMG_3_cal__query_similarity_count__query_None__threshold_0.0'\n",
      " 'EMG_4_cal__query_similarity_count__query_None__threshold_0.0'\n",
      " 'EMG_5_cal__query_similarity_count__query_None__threshold_0.0'\n",
      " 'EMG_6_cal__query_similarity_count__query_None__threshold_0.0'\n",
      " 'EMG_7_cal__query_similarity_count__query_None__threshold_0.0'] did not have any finite values. Filling with zeros.\n",
      "  warnings.warn(\n",
      "Feature Extraction: 100%|██████████████████████████████████████████████████████████████████████████████████████████████████████| 25/25 [00:03<00:00,  7.35it/s]\n"
     ]
    },
    {
     "name": "stdout",
     "output_type": "stream",
     "text": [
      "Validation Accuracy: 0.9130\n"
     ]
    }
   ],
   "source": [
    "# Perform k-fold cross-validation\n",
    "for fold, (train_index, val_index) in enumerate(kf.split(X_train_full)):\n",
    "    print(f'Fold {fold + 1}/{k_folds}')\n",
    "    \n",
    "    # Split the data\n",
    "    X_train, X_val = X_train_full.iloc[train_index], X_train_full.iloc[val_index]\n",
    "    y_train, y_val = y_train_full.iloc[train_index], y_train_full.iloc[val_index]\n",
    "    \n",
    "    # Define pipeline\n",
    "    ppl = Pipeline([\n",
    "        ('augmenter', RelevantFeatureAugmenter(column_id='id', column_sort='time')),\n",
    "        ('classifier', RandomForestClassifier(random_state=random_state))\n",
    "    ])\n",
    "    ppl.set_params(augmenter__timeseries_container=ts)\n",
    "\n",
    "    # Train model\n",
    "    ppl.fit(X_train, y_train)\n",
    "    \n",
    "    # Validate model\n",
    "    y_val_pred = ppl.predict(X_val)\n",
    "    val_score = accuracy_score(y_val, y_val_pred)\n",
    "    print(f'Validation Accuracy: {val_score:.4f}')\n",
    "    \n",
    "    # Save the best model\n",
    "    if val_score > best_score:\n",
    "        best_score = val_score\n",
    "        best_model = ppl\n"
   ]
  },
  {
   "cell_type": "code",
   "execution_count": 7,
   "id": "c5a53f97",
   "metadata": {},
   "outputs": [
    {
     "name": "stdout",
     "output_type": "stream",
     "text": [
      "Best Validation Accuracy: 0.9783\n"
     ]
    },
    {
     "name": "stderr",
     "output_type": "stream",
     "text": [
      "Feature Extraction: 100%|██████████████████████████████████████████████████████████████████████████████████████████████████████| 25/25 [00:04<00:00,  5.34it/s]\n"
     ]
    },
    {
     "data": {
      "text/markdown": [
       "# Results: p1"
      ],
      "text/plain": [
       "<IPython.core.display.Markdown object>"
      ]
     },
     "metadata": {},
     "output_type": "display_data"
    },
    {
     "name": "stdout",
     "output_type": "stream",
     "text": [
      "accuracy: 0.9625\n"
     ]
    },
    {
     "data": {
      "image/png": "[encoded data removed]",
      "text/plain": [
       "<Figure size 640x480 with 2 Axes>"
      ]
     },
     "metadata": {},
     "output_type": "display_data"
    },
    {
     "name": "stdout",
     "output_type": "stream",
     "text": [
      "              precision    recall  f1-score   support\n",
      "\n",
      "       crimp       0.93      1.00      0.96        40\n",
      "  sloper_jug       1.00      0.93      0.96        40\n",
      "\n",
      "    accuracy                           0.96        80\n",
      "   macro avg       0.97      0.96      0.96        80\n",
      "weighted avg       0.97      0.96      0.96        80\n",
      "\n"
     ]
    }
   ],
   "source": [
    "# Final evaluation on the test set\n",
    "print(f'Best Validation Accuracy: {best_score:.4f}')\n",
    "y_test_pred = best_model.predict(X_test)\n",
    "report_cm(f'Results: {leave_out}', y_test, y_test_pred, best_model.named_steps['classifier'].classes_)\n",
    "print(classification_report(y_test, y_test_pred))"
   ]
  },
  {
   "cell_type": "code",
   "execution_count": null,
   "id": "5a51a4ea",
   "metadata": {},
   "outputs": [],
   "source": []
  }
 ],
 "metadata": {
  "kernelspec": {
   "display_name": "Python 3 (ipykernel)",
   "language": "python",
   "name": "python3"
  },
  "language_info": {
   "codemirror_mode": {
    "name": "ipython",
    "version": 3
   },
   "file_extension": ".py",
   "mimetype": "text/x-python",
   "name": "python",
   "nbconvert_exporter": "python",
   "pygments_lexer": "ipython3",
   "version": "3.12.2"
  }
 },
 "nbformat": 4,
 "nbformat_minor": 5
}
