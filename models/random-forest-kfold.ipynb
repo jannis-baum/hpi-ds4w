{
 "cells": [
  {
   "cell_type": "code",
   "execution_count": 18,
   "id": "bad06ad9",
   "metadata": {},
   "outputs": [],
   "source": [
    "# add parent dir to sys.path so we can import from repo base\n",
    "import os; import sys; sys.path.append(os.path.dirname(os.path.realpath(os.getcwd())))"
   ]
  },
  {
   "cell_type": "code",
   "execution_count": 19,
   "id": "4b81026c",
   "metadata": {},
   "outputs": [],
   "source": [
    "import matplotlib.pyplot as plt\n",
    "import numpy as np\n",
    "import pandas as pd\n",
    "\n",
    "from sklearn.ensemble import RandomForestClassifier\n",
    "from sklearn.manifold import TSNE\n",
    "from sklearn.model_selection import train_test_split, KFold\n",
    "from sklearn.metrics import classification_report\n",
    "from sklearn.metrics import accuracy_score\n",
    "from sklearn.pipeline import Pipeline\n",
    "\n",
    "from tsfresh.transformers import RelevantFeatureAugmenter\n",
    "\n",
    "from script.dataset import get_data\n",
    "from script.visualization import report_cm"
   ]
  },
  {
   "cell_type": "code",
   "execution_count": 20,
   "id": "8d33c4c1",
   "metadata": {},
   "outputs": [],
   "source": [
    "# Parameters\n",
    "leave_out = 'p1'\n",
    "k_folds = 5\n",
    "random_state = 42"
   ]
  },
  {
   "cell_type": "code",
   "execution_count": 21,
   "id": "017d19b1",
   "metadata": {},
   "outputs": [],
   "source": [
    "# Load data\n",
    "ts, y = get_data()\n",
    "\n",
    "# Prepare the DataFrame\n",
    "X = pd.DataFrame(index=y.index)\n",
    "split = y.index.str.contains(leave_out)\n",
    "X_train_full, X_test, y_train_full, y_test = (X[~split], X[split], y[~split], y[split])"
   ]
  },
  {
   "cell_type": "code",
   "execution_count": 22,
   "id": "7a658640",
   "metadata": {},
   "outputs": [],
   "source": [
    "# Initialize KFold\n",
    "kf = KFold(n_splits=k_folds, shuffle=True, random_state=random_state)\n",
    "best_model = None\n",
    "best_score = 0"
   ]
  },
  {
   "cell_type": "code",
   "execution_count": 23,
   "id": "e75c4e2f",
   "metadata": {},
   "outputs": [
    {
     "name": "stdout",
     "output_type": "stream",
     "text": [
      "Fold 1/5\n"
     ]
    },
    {
     "name": "stderr",
     "output_type": "stream",
     "text": [
      "Feature Extraction: 100%|██████████| 30/30 [01:31<00:00,  3.03s/it]\n",
      "c:\\Users\\shnag\\anaconda3\\envs\\DS4W\\Lib\\site-packages\\tsfresh\\utilities\\dataframe_functions.py:198: RuntimeWarning: The columns ['EMG_7_cal__query_similarity_count__query_None__threshold_0.0'\n",
      " 'EMG_0__query_similarity_count__query_None__threshold_0.0'\n",
      " 'EMG_1__query_similarity_count__query_None__threshold_0.0'\n",
      " 'EMG_2__query_similarity_count__query_None__threshold_0.0'\n",
      " 'EMG_3__query_similarity_count__query_None__threshold_0.0'\n",
      " 'EMG_4__query_similarity_count__query_None__threshold_0.0'\n",
      " 'EMG_5__query_similarity_count__query_None__threshold_0.0'\n",
      " 'EMG_6__query_similarity_count__query_None__threshold_0.0'\n",
      " 'EMG_7__query_similarity_count__query_None__threshold_0.0'\n",
      " 'EMG_0_cal__query_similarity_count__query_None__threshold_0.0'\n",
      " 'EMG_1_cal__query_similarity_count__query_None__threshold_0.0'\n",
      " 'EMG_2_cal__query_similarity_count__query_None__threshold_0.0'\n",
      " 'EMG_3_cal__query_similarity_count__query_None__threshold_0.0'\n",
      " 'EMG_4_cal__query_similarity_count__query_None__threshold_0.0'\n",
      " 'EMG_5_cal__query_similarity_count__query_None__threshold_0.0'\n",
      " 'EMG_6_cal__query_similarity_count__query_None__threshold_0.0'] did not have any finite values. Filling with zeros.\n",
      "  warnings.warn(\n",
      "Feature Extraction: 100%|██████████| 29/29 [00:08<00:00,  3.41it/s]\n"
     ]
    },
    {
     "name": "stdout",
     "output_type": "stream",
     "text": [
      "Validation Accuracy: 0.8298\n",
      "Fold 2/5\n"
     ]
    },
    {
     "name": "stderr",
     "output_type": "stream",
     "text": [
      "Feature Extraction: 100%|██████████| 30/30 [01:37<00:00,  3.26s/it]\n",
      "c:\\Users\\shnag\\anaconda3\\envs\\DS4W\\Lib\\site-packages\\tsfresh\\utilities\\dataframe_functions.py:198: RuntimeWarning: The columns ['EMG_1_cal__query_similarity_count__query_None__threshold_0.0'\n",
      " 'EMG_2_cal__query_similarity_count__query_None__threshold_0.0'\n",
      " 'EMG_3_cal__query_similarity_count__query_None__threshold_0.0'\n",
      " 'EMG_4_cal__query_similarity_count__query_None__threshold_0.0'\n",
      " 'EMG_5_cal__query_similarity_count__query_None__threshold_0.0'\n",
      " 'EMG_6_cal__query_similarity_count__query_None__threshold_0.0'\n",
      " 'EMG_7_cal__query_similarity_count__query_None__threshold_0.0'\n",
      " 'EMG_0__query_similarity_count__query_None__threshold_0.0'\n",
      " 'EMG_1__query_similarity_count__query_None__threshold_0.0'\n",
      " 'EMG_2__query_similarity_count__query_None__threshold_0.0'\n",
      " 'EMG_3__query_similarity_count__query_None__threshold_0.0'\n",
      " 'EMG_4__query_similarity_count__query_None__threshold_0.0'\n",
      " 'EMG_5__query_similarity_count__query_None__threshold_0.0'\n",
      " 'EMG_6__query_similarity_count__query_None__threshold_0.0'\n",
      " 'EMG_7__query_similarity_count__query_None__threshold_0.0'\n",
      " 'EMG_0_cal__query_similarity_count__query_None__threshold_0.0'] did not have any finite values. Filling with zeros.\n",
      "  warnings.warn(\n",
      "Feature Extraction: 100%|██████████| 29/29 [00:08<00:00,  3.47it/s]\n"
     ]
    },
    {
     "name": "stdout",
     "output_type": "stream",
     "text": [
      "Validation Accuracy: 0.8511\n",
      "Fold 3/5\n"
     ]
    },
    {
     "name": "stderr",
     "output_type": "stream",
     "text": [
      "Feature Extraction: 100%|██████████| 30/30 [01:33<00:00,  3.11s/it]\n",
      "c:\\Users\\shnag\\anaconda3\\envs\\DS4W\\Lib\\site-packages\\tsfresh\\utilities\\dataframe_functions.py:198: RuntimeWarning: The columns ['EMG_4__query_similarity_count__query_None__threshold_0.0'\n",
      " 'EMG_5__query_similarity_count__query_None__threshold_0.0'\n",
      " 'EMG_6__query_similarity_count__query_None__threshold_0.0'\n",
      " 'EMG_7__query_similarity_count__query_None__threshold_0.0'\n",
      " 'EMG_0_cal__query_similarity_count__query_None__threshold_0.0'\n",
      " 'EMG_1_cal__query_similarity_count__query_None__threshold_0.0'\n",
      " 'EMG_2_cal__query_similarity_count__query_None__threshold_0.0'\n",
      " 'EMG_3_cal__query_similarity_count__query_None__threshold_0.0'\n",
      " 'EMG_4_cal__query_similarity_count__query_None__threshold_0.0'\n",
      " 'EMG_5_cal__query_similarity_count__query_None__threshold_0.0'\n",
      " 'EMG_6_cal__query_similarity_count__query_None__threshold_0.0'\n",
      " 'EMG_7_cal__query_similarity_count__query_None__threshold_0.0'\n",
      " 'EMG_0__query_similarity_count__query_None__threshold_0.0'\n",
      " 'EMG_1__query_similarity_count__query_None__threshold_0.0'\n",
      " 'EMG_2__query_similarity_count__query_None__threshold_0.0'\n",
      " 'EMG_3__query_similarity_count__query_None__threshold_0.0'] did not have any finite values. Filling with zeros.\n",
      "  warnings.warn(\n",
      "Feature Extraction: 100%|██████████| 30/30 [00:09<00:00,  3.23it/s]\n"
     ]
    },
    {
     "name": "stdout",
     "output_type": "stream",
     "text": [
      "Validation Accuracy: 0.8478\n",
      "Fold 4/5\n"
     ]
    },
    {
     "name": "stderr",
     "output_type": "stream",
     "text": [
      "Feature Extraction: 100%|██████████| 30/30 [01:17<00:00,  2.59s/it]\n",
      "c:\\Users\\shnag\\anaconda3\\envs\\DS4W\\Lib\\site-packages\\tsfresh\\utilities\\dataframe_functions.py:198: RuntimeWarning: The columns ['EMG_0__query_similarity_count__query_None__threshold_0.0'\n",
      " 'EMG_1__query_similarity_count__query_None__threshold_0.0'\n",
      " 'EMG_2__query_similarity_count__query_None__threshold_0.0'\n",
      " 'EMG_3__query_similarity_count__query_None__threshold_0.0'\n",
      " 'EMG_4__query_similarity_count__query_None__threshold_0.0'\n",
      " 'EMG_5__query_similarity_count__query_None__threshold_0.0'\n",
      " 'EMG_6__query_similarity_count__query_None__threshold_0.0'\n",
      " 'EMG_7__query_similarity_count__query_None__threshold_0.0'\n",
      " 'EMG_0_cal__query_similarity_count__query_None__threshold_0.0'\n",
      " 'EMG_1_cal__query_similarity_count__query_None__threshold_0.0'\n",
      " 'EMG_2_cal__query_similarity_count__query_None__threshold_0.0'\n",
      " 'EMG_3_cal__query_similarity_count__query_None__threshold_0.0'\n",
      " 'EMG_4_cal__query_similarity_count__query_None__threshold_0.0'\n",
      " 'EMG_5_cal__query_similarity_count__query_None__threshold_0.0'\n",
      " 'EMG_6_cal__query_similarity_count__query_None__threshold_0.0'\n",
      " 'EMG_7_cal__query_similarity_count__query_None__threshold_0.0'] did not have any finite values. Filling with zeros.\n",
      "  warnings.warn(\n",
      "Feature Extraction: 100%|██████████| 30/30 [00:07<00:00,  4.03it/s]\n"
     ]
    },
    {
     "name": "stdout",
     "output_type": "stream",
     "text": [
      "Validation Accuracy: 0.9348\n",
      "Fold 5/5\n"
     ]
    },
    {
     "name": "stderr",
     "output_type": "stream",
     "text": [
      "Feature Extraction: 100%|██████████| 30/30 [01:13<00:00,  2.45s/it]\n",
      "c:\\Users\\shnag\\anaconda3\\envs\\DS4W\\Lib\\site-packages\\tsfresh\\utilities\\dataframe_functions.py:198: RuntimeWarning: The columns ['EMG_4__query_similarity_count__query_None__threshold_0.0'\n",
      " 'EMG_5__query_similarity_count__query_None__threshold_0.0'\n",
      " 'EMG_6__query_similarity_count__query_None__threshold_0.0'\n",
      " 'EMG_7__query_similarity_count__query_None__threshold_0.0'\n",
      " 'EMG_0_cal__query_similarity_count__query_None__threshold_0.0'\n",
      " 'EMG_1_cal__query_similarity_count__query_None__threshold_0.0'\n",
      " 'EMG_2_cal__query_similarity_count__query_None__threshold_0.0'\n",
      " 'EMG_3_cal__query_similarity_count__query_None__threshold_0.0'\n",
      " 'EMG_4_cal__query_similarity_count__query_None__threshold_0.0'\n",
      " 'EMG_5_cal__query_similarity_count__query_None__threshold_0.0'\n",
      " 'EMG_6_cal__query_similarity_count__query_None__threshold_0.0'\n",
      " 'EMG_7_cal__query_similarity_count__query_None__threshold_0.0'\n",
      " 'EMG_0__query_similarity_count__query_None__threshold_0.0'\n",
      " 'EMG_1__query_similarity_count__query_None__threshold_0.0'\n",
      " 'EMG_2__query_similarity_count__query_None__threshold_0.0'\n",
      " 'EMG_3__query_similarity_count__query_None__threshold_0.0'] did not have any finite values. Filling with zeros.\n",
      "  warnings.warn(\n",
      "Feature Extraction: 100%|██████████| 30/30 [00:07<00:00,  4.22it/s]\n"
     ]
    },
    {
     "name": "stdout",
     "output_type": "stream",
     "text": [
      "Validation Accuracy: 0.8696\n"
     ]
    }
   ],
   "source": [
    "# Perform k-fold cross-validation\n",
    "for fold, (train_index, val_index) in enumerate(kf.split(X_train_full)):\n",
    "    print(f'Fold {fold + 1}/{k_folds}')\n",
    "    \n",
    "    # Split the data\n",
    "    X_train, X_val = X_train_full.iloc[train_index], X_train_full.iloc[val_index]\n",
    "    y_train, y_val = y_train_full.iloc[train_index], y_train_full.iloc[val_index]\n",
    "    \n",
    "    # Define pipeline\n",
    "    ppl = Pipeline([\n",
    "        ('augmenter', RelevantFeatureAugmenter(column_id='id', column_sort='time')),\n",
    "        ('classifier', RandomForestClassifier(random_state=random_state))\n",
    "    ])\n",
    "    ppl.set_params(augmenter__timeseries_container=ts)\n",
    "\n",
    "    # Train model\n",
    "    ppl.fit(X_train, y_train)\n",
    "    \n",
    "    # Validate model\n",
    "    y_val_pred = ppl.predict(X_val)\n",
    "    val_score = accuracy_score(y_val, y_val_pred)\n",
    "    print(f'Validation Accuracy: {val_score:.4f}')\n",
    "    \n",
    "    # Save the best model\n",
    "    if val_score > best_score:\n",
    "        best_score = val_score\n",
    "        best_model = ppl\n"
   ]
  },
  {
   "cell_type": "code",
   "execution_count": 24,
   "id": "c5a53f97",
   "metadata": {},
   "outputs": [
    {
     "name": "stdout",
     "output_type": "stream",
     "text": [
      "Best Validation Accuracy: 0.9348\n"
     ]
    },
    {
     "name": "stderr",
     "output_type": "stream",
     "text": [
      "Feature Extraction: 100%|██████████| 30/30 [00:10<00:00,  2.85it/s]\n"
     ]
    },
    {
     "data": {
      "text/markdown": [
       "# Results: p1"
      ],
      "text/plain": [
       "<IPython.core.display.Markdown object>"
      ]
     },
     "metadata": {},
     "output_type": "display_data"
    },
    {
     "name": "stdout",
     "output_type": "stream",
     "text": [
      "accuracy: 0.9375\n"
     ]
    },
    {
     "data": {
      "image/png": "[encoded data removed]",
      "text/plain": [
       "<Figure size 640x480 with 2 Axes>"
      ]
     },
     "metadata": {},
     "output_type": "display_data"
    },
    {
     "name": "stdout",
     "output_type": "stream",
     "text": [
      "              precision    recall  f1-score   support\n",
      "\n",
      "       crimp       0.89      1.00      0.94        40\n",
      "  sloper_jug       1.00      0.88      0.93        40\n",
      "\n",
      "    accuracy                           0.94        80\n",
      "   macro avg       0.94      0.94      0.94        80\n",
      "weighted avg       0.94      0.94      0.94        80\n",
      "\n"
     ]
    }
   ],
   "source": [
    "# Final evaluation on the test set\n",
    "print(f'Best Validation Accuracy: {best_score:.4f}')\n",
    "y_test_pred = best_model.predict(X_test)\n",
    "report_cm(f'Results: {leave_out}', y_test, y_test_pred, best_model.named_steps['classifier'].classes_)\n",
    "print(classification_report(y_test, y_test_pred))"
   ]
  },
  {
   "cell_type": "code",
   "execution_count": 25,
   "id": "529fd9d2",
   "metadata": {},
   "outputs": [
    {
     "name": "stderr",
     "output_type": "stream",
     "text": [
      "Feature Extraction: 100%|██████████| 30/30 [00:10<00:00,  2.86it/s]\n",
      "c:\\Users\\shnag\\anaconda3\\envs\\DS4W\\Lib\\site-packages\\joblib\\externals\\loky\\backend\\context.py:136: UserWarning: Could not find the number of physical cores for the following reason:\n",
      "found 0 physical cores < 1\n",
      "Returning the number of logical cores instead. You can silence this warning by setting LOKY_MAX_CPU_COUNT to the number of cores you want to use.\n",
      "  warnings.warn(\n",
      "  File \"c:\\Users\\shnag\\anaconda3\\envs\\DS4W\\Lib\\site-packages\\joblib\\externals\\loky\\backend\\context.py\", line 282, in _count_physical_cores\n",
      "    raise ValueError(f\"found {cpu_count_physical} physical cores < 1\")\n"
     ]
    },
    {
     "data": {
      "image/png": "[encoded data removed]",
      "text/plain": [
       "<Figure size 1200x800 with 1 Axes>"
      ]
     },
     "metadata": {},
     "output_type": "display_data"
    }
   ],
   "source": [
    "# Visualization with t-SNE (optional)\n",
    "features = best_model.named_steps['augmenter'].transform(X_test)\n",
    "X_tsne = TSNE(n_components=2, random_state=random_state).fit_transform(features)\n",
    "plt.figure(figsize=(12, 8))\n",
    "for i, target_name in enumerate(best_model.named_steps['classifier'].classes_):\n",
    "    plt.scatter(X_tsne[y_test == target_name, 0], X_tsne[y_test == target_name, 1], label=target_name)\n",
    "plt.legend()\n",
    "plt.title('t-SNE visualization of test set')\n",
    "plt.show()"
   ]
  },
  {
   "cell_type": "code",
   "execution_count": null,
   "id": "5a51a4ea",
   "metadata": {},
   "outputs": [],
   "source": []
  }
 ],
 "metadata": {
  "kernelspec": {
   "display_name": "Python 3 (ipykernel)",
   "language": "python",
   "name": "python3"
  },
  "language_info": {
   "codemirror_mode": {
    "name": "ipython",
    "version": 3
   },
   "file_extension": ".py",
   "mimetype": "text/x-python",
   "name": "python",
   "nbconvert_exporter": "python",
   "pygments_lexer": "ipython3",
   "version": "3.12.4"
  }
 },
 "nbformat": 4,
 "nbformat_minor": 5
}
