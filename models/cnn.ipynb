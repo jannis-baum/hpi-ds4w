{
 "cells": [
  {
   "cell_type": "code",
   "execution_count": 1,
   "id": "089aa962-481a-4115-96b3-cc451458fa7b",
   "metadata": {},
   "outputs": [],
   "source": [
    "# add parent dir to sys.path so we can import from repo base\n",
    "import os; import sys; sys.path.append(os.path.dirname(os.path.realpath(os.getcwd())))"
   ]
  },
  {
   "cell_type": "code",
   "execution_count": 2,
   "id": "834fcd80-585b-41b4-a1da-894458d34d6f",
   "metadata": {},
   "outputs": [],
   "source": [
    "import numpy as np\n",
    "import pandas as pd\n",
    "\n",
    "from sklearn.preprocessing import LabelBinarizer, StandardScaler\n",
    "from sklearn.model_selection import train_test_split, KFold\n",
    "from sklearn.metrics import accuracy_score\n",
    "\n",
    "import torch\n",
    "import torch.nn as nn\n",
    "import torch.optim as optim\n",
    "from torch.utils.data import DataLoader, TensorDataset\n",
    "\n",
    "from definitions import model_dir\n",
    "from script.dataset import get_data, cols_emg, cols_emg_cal\n",
    "from script.visualization import report_cm"
   ]
  },
  {
   "cell_type": "code",
   "execution_count": 3,
   "id": "379564bd-ffba-4702-b2f2-8e5a7fcdc42c",
   "metadata": {},
   "outputs": [],
   "source": [
    "X, y = get_data()"
   ]
  },
  {
   "cell_type": "code",
   "execution_count": 4,
   "id": "2de015cb-0677-432b-a2ac-7d18a88eb82e",
   "metadata": {},
   "outputs": [
    {
     "name": "stdout",
     "output_type": "stream",
     "text": [
      "data shape: (312, 100, 16)\n",
      "labels shape: (312, 4), classes: ['crimp_20' 'crimp_45' 'jug' 'sloper_30']\n"
     ]
    }
   ],
   "source": [
    "# extract center 100 data points from each set & one-hot encode labels\n",
    "\n",
    "window_size = 100\n",
    "data = list()\n",
    "labels = list()\n",
    "people = list()\n",
    "\n",
    "for i, count in X.value_counts('id').items():\n",
    "    start = int(count / 2 - window_size / 2)\n",
    "    idx_range = X[X['id'] == i].index[start:start + window_size]\n",
    "    data.append(np.array(X.iloc[idx_range][cols_emg + cols_emg_cal]))\n",
    "    labels.append(y[i])\n",
    "    people.append(i.split('_')[1])\n",
    "    \n",
    "data = np.array(data)\n",
    "data_dim = data.shape\n",
    "print(f'data shape: {data_dim}')\n",
    "\n",
    "scaler = StandardScaler()\n",
    "data = data.reshape(-1, 8)  # reshape to 2D for scaling\n",
    "data = scaler.fit_transform(data)\n",
    "data = data.reshape(*data_dim)  # reshape back to original shape\n",
    "\n",
    "encoder = LabelBinarizer()\n",
    "labels = encoder.fit_transform(labels)\n",
    "print(f'labels shape: {labels.shape}, classes: {encoder.classes_}')\n",
    "\n",
    "people = pd.Series(people)"
   ]
  },
  {
   "cell_type": "code",
   "execution_count": 5,
   "id": "f1c23fd9-615a-4c10-90e4-7744c80d692b",
   "metadata": {},
   "outputs": [
    {
     "name": "stdout",
     "output_type": "stream",
     "text": [
      "training data shape: (232, 100, 16)\n"
     ]
    }
   ],
   "source": [
    "# train/test split\n",
    "\n",
    "test_person = 'p1'\n",
    "split = people == test_person\n",
    "data_train, data_test, labels_train, labels_test = data[~split], data[split], labels[~split], labels[split]\n",
    "print(f'training data shape: {data_train.shape}')"
   ]
  },
  {
   "cell_type": "code",
   "execution_count": 6,
   "id": "8e8c7a06-e494-4c39-be4f-d815d9c17274",
   "metadata": {},
   "outputs": [],
   "source": [
    "# pytorch device & tensors\n",
    "\n",
    "# use gpu > apple silicon > cpu\n",
    "device = torch.device(\"cuda:0\" if torch.cuda.is_available() else (torch.device(\"mps\") if torch.backends.mps.is_available() else \"cpu\"))\n",
    "\n",
    "def dataset_to_tensors(data, labels):   \n",
    "    data = torch.tensor(data, dtype=torch.float32, device=device)\n",
    "    # change dimensions to (batch_size, num_features, seq_length)\n",
    "    data = data.transpose(1, 2)\n",
    "    labels = torch.tensor(labels, dtype=torch.float32, device=device)\n",
    "    return (data, labels)\n",
    "\n",
    "data_train, labels_train = dataset_to_tensors(data_train, labels_train)\n",
    "data_test, labels_test = dataset_to_tensors(data_test, labels_test)"
   ]
  },
  {
   "cell_type": "code",
   "execution_count": 7,
   "id": "f2f7bfc7-11fa-41c6-8369-41e936e65775",
   "metadata": {},
   "outputs": [
    {
     "name": "stdout",
     "output_type": "stream",
     "text": [
      "number of parameters: 8636\n"
     ]
    }
   ],
   "source": [
    "# network\n",
    "\n",
    "class CNN(nn.Module):\n",
    "    def __init__(self, seq_length, kernel_size = 5, num_features = 32, in_channels = 16):\n",
    "        super(CNN, self).__init__()\n",
    "\n",
    "        conv_diff = kernel_size - 1\n",
    "        lin_in = int(((seq_length - conv_diff) / 2 - conv_diff) / 2 * num_features)\n",
    "        conv1_feats = int(in_channels + (num_features - in_channels) / 2)\n",
    "        \n",
    "        self.stack = nn.Sequential(\n",
    "            nn.Conv1d(in_channels=in_channels, out_channels=conv1_feats, kernel_size=kernel_size),\n",
    "            nn.ReLU(),\n",
    "            nn.MaxPool1d(kernel_size=2),\n",
    "            \n",
    "            nn.Conv1d(in_channels=conv1_feats, out_channels=num_features, kernel_size=kernel_size),\n",
    "            nn.ReLU(),\n",
    "            nn.MaxPool1d(kernel_size=2),\n",
    "\n",
    "            nn.Dropout(0.5),\n",
    "            nn.Flatten(),\n",
    "            nn.Linear(lin_in, 4),\n",
    "            nn.Softmax(dim=1)\n",
    "        )\n",
    "    \n",
    "    def forward(self, x):\n",
    "        i = torch.nn.Identity()\n",
    "        c = i(x)\n",
    "        c = self.stack(c)\n",
    "        return c\n",
    "\n",
    "model = CNN(window_size)\n",
    "print(f'number of parameters: {sum(p.numel() for p in model.parameters() if p.requires_grad)}')\n",
    "del model"
   ]
  },
  {
   "cell_type": "code",
   "execution_count": 8,
   "id": "14275865-eddc-41bd-b4d6-4fada2cef4e2",
   "metadata": {},
   "outputs": [
    {
     "name": "stdout",
     "output_type": "stream",
     "text": [
      "Epoch 1/20, Loss: 1.3487\n",
      "Epoch 2/20, Loss: 1.2014\n",
      "Epoch 3/20, Loss: 1.0761\n",
      "Epoch 4/20, Loss: 1.0344\n",
      "Epoch 5/20, Loss: 1.0399\n",
      "Epoch 6/20, Loss: 0.9982\n",
      "Epoch 7/20, Loss: 1.0121\n",
      "Epoch 8/20, Loss: 0.9749\n",
      "Epoch 9/20, Loss: 0.9529\n",
      "Epoch 10/20, Loss: 0.9584\n",
      "Epoch 11/20, Loss: 0.9463\n",
      "Epoch 12/20, Loss: 0.9314\n",
      "Epoch 13/20, Loss: 0.9251\n",
      "Epoch 14/20, Loss: 0.9295\n",
      "Epoch 15/20, Loss: 0.9216\n",
      "Epoch 16/20, Loss: 0.9078\n",
      "Epoch 17/20, Loss: 0.8991\n",
      "Epoch 18/20, Loss: 0.9146\n",
      "Epoch 19/20, Loss: 0.9218\n",
      "Epoch 20/20, Loss: 0.8961\n",
      "Training complete\n",
      "Validation Loss: 0.7947\n",
      "Epoch 1/20, Loss: 1.3698\n",
      "Epoch 2/20, Loss: 1.2362\n",
      "Epoch 3/20, Loss: 1.1512\n",
      "Epoch 4/20, Loss: 1.0959\n",
      "Epoch 5/20, Loss: 1.0233\n",
      "Epoch 6/20, Loss: 0.9944\n",
      "Epoch 7/20, Loss: 0.9879\n",
      "Epoch 8/20, Loss: 0.9448\n",
      "Epoch 9/20, Loss: 0.9415\n",
      "Epoch 10/20, Loss: 0.9396\n",
      "Epoch 11/20, Loss: 0.9422\n",
      "Epoch 12/20, Loss: 0.9402\n",
      "Epoch 13/20, Loss: 0.9358\n",
      "Epoch 14/20, Loss: 0.9227\n",
      "Epoch 15/20, Loss: 0.9240\n",
      "Epoch 16/20, Loss: 0.9153\n",
      "Epoch 17/20, Loss: 0.8965\n",
      "Epoch 18/20, Loss: 0.8969\n",
      "Epoch 19/20, Loss: 0.8632\n",
      "Epoch 20/20, Loss: 0.9230\n",
      "Training complete\n",
      "Validation Loss: 0.8075\n",
      "Epoch 1/20, Loss: 1.3491\n",
      "Epoch 2/20, Loss: 1.1768\n",
      "Epoch 3/20, Loss: 1.0918\n",
      "Epoch 4/20, Loss: 1.0345\n",
      "Epoch 5/20, Loss: 0.9883\n",
      "Epoch 6/20, Loss: 0.9959\n",
      "Epoch 7/20, Loss: 0.9672\n",
      "Epoch 8/20, Loss: 0.9692\n",
      "Epoch 9/20, Loss: 0.9781\n",
      "Epoch 10/20, Loss: 0.9628\n",
      "Epoch 11/20, Loss: 0.9481\n",
      "Epoch 12/20, Loss: 0.9278\n",
      "Epoch 13/20, Loss: 0.9198\n",
      "Epoch 14/20, Loss: 0.9341\n",
      "Epoch 15/20, Loss: 0.9043\n",
      "Epoch 16/20, Loss: 0.9152\n",
      "Epoch 17/20, Loss: 0.9326\n",
      "Epoch 18/20, Loss: 0.9044\n",
      "Epoch 19/20, Loss: 0.9249\n",
      "Epoch 20/20, Loss: 0.8793\n",
      "Training complete\n",
      "Validation Loss: 0.8848\n",
      "Epoch 1/20, Loss: 1.3574\n",
      "Epoch 2/20, Loss: 1.2371\n",
      "Epoch 3/20, Loss: 1.1241\n",
      "Epoch 4/20, Loss: 1.0571\n",
      "Epoch 5/20, Loss: 1.0060\n",
      "Epoch 6/20, Loss: 0.9928\n",
      "Epoch 7/20, Loss: 0.9680\n",
      "Epoch 8/20, Loss: 0.9807\n",
      "Epoch 9/20, Loss: 0.9633\n",
      "Epoch 10/20, Loss: 0.9720\n",
      "Epoch 11/20, Loss: 0.9576\n",
      "Epoch 12/20, Loss: 0.9277\n",
      "Epoch 13/20, Loss: 0.9444\n",
      "Epoch 14/20, Loss: 0.9418\n",
      "Epoch 15/20, Loss: 0.9621\n",
      "Epoch 16/20, Loss: 0.9404\n",
      "Epoch 17/20, Loss: 0.9215\n",
      "Epoch 18/20, Loss: 0.9151\n",
      "Epoch 19/20, Loss: 0.9319\n",
      "Epoch 20/20, Loss: 0.9050\n",
      "Training complete\n",
      "Validation Loss: 0.9912\n",
      "Epoch 1/20, Loss: 1.3121\n",
      "Epoch 2/20, Loss: 1.1935\n",
      "Epoch 3/20, Loss: 1.0860\n",
      "Epoch 4/20, Loss: 1.0461\n",
      "Epoch 5/20, Loss: 1.0279\n",
      "Epoch 6/20, Loss: 1.0011\n",
      "Epoch 7/20, Loss: 0.9557\n",
      "Epoch 8/20, Loss: 0.9337\n",
      "Epoch 9/20, Loss: 0.9318\n",
      "Epoch 10/20, Loss: 0.9098\n",
      "Epoch 11/20, Loss: 0.9499\n",
      "Epoch 12/20, Loss: 0.9260\n",
      "Epoch 13/20, Loss: 0.9215\n",
      "Epoch 14/20, Loss: 0.8958\n",
      "Epoch 15/20, Loss: 0.8864\n",
      "Epoch 16/20, Loss: 0.8970\n",
      "Epoch 17/20, Loss: 0.8966\n",
      "Epoch 18/20, Loss: 0.8612\n",
      "Epoch 19/20, Loss: 0.8773\n",
      "Epoch 20/20, Loss: 0.8715\n",
      "Training complete\n",
      "Validation Loss: 0.8783\n",
      "Best validation loss: 0.7947255969047546\n"
     ]
    }
   ],
   "source": [
    "# training\n",
    "\n",
    "train = True\n",
    "\n",
    "# model save\n",
    "model_path = os.path.join(model_dir, 'cnn.pth')\n",
    "\n",
    "def train_epoch(model, optimizer, criterion, dataloader):\n",
    "    model.train()\n",
    "    running_loss = 0\n",
    "    \n",
    "    for inputs, targets in dataloader:\n",
    "        optimizer.zero_grad()\n",
    "        outputs = model(inputs)\n",
    "        \n",
    "        loss = criterion(outputs, targets)\n",
    "        loss.backward()\n",
    "        optimizer.step()\n",
    "\n",
    "        running_loss += loss.item() * inputs.size(0)\n",
    "    # epoch loss\n",
    "    return running_loss / len(dataloader.dataset)\n",
    "\n",
    "def train(model, optimizer, criterion, data, labels, num_epochs = 20, batch_size=8):\n",
    "    # data loading\n",
    "    dataset = TensorDataset(data_train, labels_train)\n",
    "    dataloader = DataLoader(dataset, batch_size=batch_size, shuffle=True)\n",
    "    \n",
    "    best_loss = float('inf')\n",
    "    for epoch in range(num_epochs):\n",
    "        epoch_loss = train_epoch(model, optimizer, criterion, dataloader)\n",
    "        print(f'Epoch {epoch + 1}/{num_epochs}, Loss: {epoch_loss:.4f}')\n",
    "        \n",
    "        # save best model\n",
    "        if epoch_loss < best_loss:\n",
    "            best_loss = epoch_loss\n",
    "            torch.save(model.state_dict(), model_path)\n",
    "    print('Training complete')\n",
    "\n",
    "if not train:\n",
    "    print('Skipping training')\n",
    "else:\n",
    "    kf = KFold(n_splits=5)\n",
    "    best_loss = float('inf')\n",
    "    for fold, (idx_train, idx_val) in enumerate(kf.split(data_train)):\n",
    "        d_train, d_val = data_train[idx_train], data_train[idx_val]\n",
    "        l_train, l_val = labels_train[idx_train], labels_train[idx_val]\n",
    "        \n",
    "        model = CNN(window_size).to(device)\n",
    "        criterion = nn.CrossEntropyLoss()\n",
    "        optimizer = optim.Adam(model.parameters(), lr=0.001)\n",
    "        train(model, optimizer, criterion, d_train, l_train)\n",
    "        \n",
    "        model.eval()\n",
    "        with torch.no_grad():\n",
    "            outputs = model(d_val)\n",
    "            val_loss = criterion(outputs, l_val).item()\n",
    "            print(f'Validation Loss: {val_loss:.4f}')\n",
    "            # save best model\n",
    "            if val_loss < best_loss:\n",
    "                best_loss = val_loss\n",
    "                torch.save(model.state_dict(), model_path)\n",
    "    print(f'Best validation loss: {best_loss}')"
   ]
  },
  {
   "cell_type": "code",
   "execution_count": 9,
   "id": "ef1b9967-41f7-4209-a712-e52f240e6160",
   "metadata": {},
   "outputs": [
    {
     "data": {
      "text/markdown": [
       "# Testing with p1"
      ],
      "text/plain": [
       "<IPython.core.display.Markdown object>"
      ]
     },
     "metadata": {},
     "output_type": "display_data"
    },
    {
     "name": "stdout",
     "output_type": "stream",
     "text": [
      "accuracy: 0.6625\n"
     ]
    },
    {
     "data": {
      "image/png": "[encoded data removed]",
      "text/plain": [
       "<Figure size 640x480 with 2 Axes>"
      ]
     },
     "metadata": {},
     "output_type": "display_data"
    }
   ],
   "source": [
    "# load best model\n",
    "model.load_state_dict(torch.load(model_path))\n",
    "model.eval()\n",
    "\n",
    "with torch.no_grad():\n",
    "    outputs = model(data_test)\n",
    "    _, prediction = torch.max(outputs, 1)\n",
    "    _, true_labels = torch.max(labels_test, 1)\n",
    "    def transform_labels(labels):\n",
    "        return encoder.classes_[np.array(labels.cpu())]\n",
    "    report_cm(f'Testing with {test_person}', transform_labels(true_labels), transform_labels(prediction), encoder.classes_)"
   ]
  },
  {
   "cell_type": "code",
   "execution_count": null,
   "id": "fd0c8703-377f-40ad-9a94-6eddb0951e53",
   "metadata": {},
   "outputs": [],
   "source": []
  }
 ],
 "metadata": {
  "kernelspec": {
   "display_name": "Python 3 (ipykernel)",
   "language": "python",
   "name": "python3"
  },
  "language_info": {
   "codemirror_mode": {
    "name": "ipython",
    "version": 3
   },
   "file_extension": ".py",
   "mimetype": "text/x-python",
   "name": "python",
   "nbconvert_exporter": "python",
   "pygments_lexer": "ipython3",
   "version": "3.12.2"
  }
 },
 "nbformat": 4,
 "nbformat_minor": 5
}
