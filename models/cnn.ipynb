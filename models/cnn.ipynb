{
 "cells": [
  {
   "cell_type": "code",
   "execution_count": 1,
   "id": "089aa962-481a-4115-96b3-cc451458fa7b",
   "metadata": {},
   "outputs": [],
   "source": [
    "# add parent dir to sys.path so we can import from repo base\n",
    "import os; import sys; sys.path.append(os.path.dirname(os.path.realpath(os.getcwd())))"
   ]
  },
  {
   "cell_type": "code",
   "execution_count": 2,
   "id": "834fcd80-585b-41b4-a1da-894458d34d6f",
   "metadata": {},
   "outputs": [],
   "source": [
    "import numpy as np\n",
    "import pandas as pd\n",
    "\n",
    "from sklearn.preprocessing import OneHotEncoder, StandardScaler\n",
    "from sklearn.model_selection import train_test_split, KFold\n",
    "from sklearn.metrics import accuracy_score\n",
    "\n",
    "import torch\n",
    "import torch.nn as nn\n",
    "import torch.optim as optim\n",
    "from torch.utils.data import DataLoader, TensorDataset\n",
    "\n",
    "from definitions import model_dir\n",
    "from script.dataset import get_data, cols_emg, cols_emg_cal\n",
    "from script.visualization import report_cm"
   ]
  },
  {
   "cell_type": "code",
   "execution_count": 3,
   "id": "379564bd-ffba-4702-b2f2-8e5a7fcdc42c",
   "metadata": {},
   "outputs": [],
   "source": [
    "X, y = get_data()"
   ]
  },
  {
   "cell_type": "code",
   "execution_count": 4,
   "id": "2de015cb-0677-432b-a2ac-7d18a88eb82e",
   "metadata": {},
   "outputs": [
    {
     "name": "stdout",
     "output_type": "stream",
     "text": [
      "data shape: (312, 100, 16)\n",
      "labels shape: (312, 2), classes: [array(['crimp', 'sloper_jug'], dtype='<U10')]\n"
     ]
    }
   ],
   "source": [
    "# extract center 100 data points from each set & one-hot encode labels\n",
    "\n",
    "window_size = 100\n",
    "data = list()\n",
    "labels = list()\n",
    "people = list()\n",
    "\n",
    "for i, count in X.value_counts('id').items():\n",
    "    start = int(count / 2 - window_size / 2)\n",
    "    idx_range = X[X['id'] == i].index[start:start + window_size]\n",
    "    data.append(np.array(X.iloc[idx_range][cols_emg + cols_emg_cal]))\n",
    "    labels.append(y[i])\n",
    "    people.append(i.split('_')[1])\n",
    "    \n",
    "data = np.array(data)\n",
    "data_dim = data.shape\n",
    "print(f'data shape: {data_dim}')\n",
    "\n",
    "scaler = StandardScaler()\n",
    "data = data.reshape(-1, 8)  # reshape to 2D for scaling\n",
    "data = scaler.fit_transform(data)\n",
    "data = data.reshape(*data_dim)  # reshape back to original shape\n",
    "\n",
    "encoder = OneHotEncoder(sparse_output=False)\n",
    "labels = encoder.fit_transform(np.array(labels).reshape(-1, 1))\n",
    "print(f'labels shape: {labels.shape}, classes: {encoder.categories_}')\n",
    "\n",
    "people = pd.Series(people)"
   ]
  },
  {
   "cell_type": "code",
   "execution_count": 5,
   "id": "f1c23fd9-615a-4c10-90e4-7744c80d692b",
   "metadata": {},
   "outputs": [
    {
     "name": "stdout",
     "output_type": "stream",
     "text": [
      "training data shape: (232, 100, 16)\n"
     ]
    }
   ],
   "source": [
    "# train/test split\n",
    "\n",
    "test_person = 'p1'\n",
    "split = people == test_person\n",
    "data_train, data_test, labels_train, labels_test = data[~split], data[split], labels[~split], labels[split]\n",
    "print(f'training data shape: {data_train.shape}')"
   ]
  },
  {
   "cell_type": "code",
   "execution_count": 6,
   "id": "8e8c7a06-e494-4c39-be4f-d815d9c17274",
   "metadata": {},
   "outputs": [],
   "source": [
    "# pytorch device & tensors\n",
    "\n",
    "# use gpu > apple silicon > cpu\n",
    "device = torch.device(\"cuda:0\" if torch.cuda.is_available() else (torch.device(\"mps\") if torch.backends.mps.is_available() else \"cpu\"))\n",
    "\n",
    "def dataset_to_tensors(data, labels):   \n",
    "    data = torch.tensor(data, dtype=torch.float32, device=device)\n",
    "    # change dimensions to (batch_size, num_features, seq_length)\n",
    "    data = data.transpose(1, 2)\n",
    "    labels = torch.tensor(labels, dtype=torch.float32, device=device)\n",
    "    return (data, labels)\n",
    "\n",
    "data_train, labels_train = dataset_to_tensors(data_train, labels_train)\n",
    "data_test, labels_test = dataset_to_tensors(data_test, labels_test)"
   ]
  },
  {
   "cell_type": "code",
   "execution_count": 7,
   "id": "f2f7bfc7-11fa-41c6-8369-41e936e65775",
   "metadata": {},
   "outputs": [
    {
     "name": "stdout",
     "output_type": "stream",
     "text": [
      "number of parameters: 7226\n"
     ]
    }
   ],
   "source": [
    "# network\n",
    "\n",
    "class CNN(nn.Module):\n",
    "    def __init__(self, seq_length, kernel_size = 5, num_features = 32, in_channels = 16, classes = 4):\n",
    "        super(CNN, self).__init__()\n",
    "\n",
    "        conv_diff = kernel_size - 1\n",
    "        lin_in = int(((seq_length - conv_diff) / 2 - conv_diff) / 2 * num_features)\n",
    "        conv1_feats = int(in_channels + (num_features - in_channels) / 2)\n",
    "        \n",
    "        self.stack = nn.Sequential(\n",
    "            nn.Conv1d(in_channels=in_channels, out_channels=conv1_feats, kernel_size=kernel_size),\n",
    "            nn.ReLU(),\n",
    "            nn.MaxPool1d(kernel_size=2),\n",
    "            \n",
    "            nn.Conv1d(in_channels=conv1_feats, out_channels=num_features, kernel_size=kernel_size),\n",
    "            nn.ReLU(),\n",
    "            nn.MaxPool1d(kernel_size=2),\n",
    "\n",
    "            nn.Dropout(0.5),\n",
    "            nn.Flatten(),\n",
    "            nn.Linear(lin_in, classes),\n",
    "            nn.Softmax(dim=1)\n",
    "        )\n",
    "    \n",
    "    def forward(self, x):\n",
    "        i = torch.nn.Identity()\n",
    "        c = i(x)\n",
    "        c = self.stack(c)\n",
    "        return c\n",
    "\n",
    "model = CNN(window_size, classes=labels.shape[1])\n",
    "print(f'number of parameters: {sum(p.numel() for p in model.parameters() if p.requires_grad)}')\n",
    "del model"
   ]
  },
  {
   "cell_type": "code",
   "execution_count": 8,
   "id": "14275865-eddc-41bd-b4d6-4fada2cef4e2",
   "metadata": {},
   "outputs": [
    {
     "name": "stdout",
     "output_type": "stream",
     "text": [
      "Epoch 1/20, Loss: 0.6137\n",
      "Epoch 2/20, Loss: 0.4202\n",
      "Epoch 3/20, Loss: 0.3981\n",
      "Epoch 4/20, Loss: 0.3920\n",
      "Epoch 5/20, Loss: 0.3782\n",
      "Epoch 6/20, Loss: 0.3823\n",
      "Epoch 7/20, Loss: 0.3874\n",
      "Epoch 8/20, Loss: 0.3805\n",
      "Epoch 9/20, Loss: 0.3583\n",
      "Epoch 10/20, Loss: 0.3593\n",
      "Epoch 11/20, Loss: 0.3718\n",
      "Epoch 12/20, Loss: 0.3560\n",
      "Epoch 13/20, Loss: 0.3529\n",
      "Epoch 14/20, Loss: 0.3447\n",
      "Epoch 15/20, Loss: 0.3518\n",
      "Epoch 16/20, Loss: 0.3444\n",
      "Epoch 17/20, Loss: 0.3449\n",
      "Epoch 18/20, Loss: 0.3379\n",
      "Epoch 19/20, Loss: 0.3375\n",
      "Epoch 20/20, Loss: 0.3338\n",
      "Training complete\n",
      "Validation Loss: 0.3137\n",
      "Epoch 1/20, Loss: 0.5900\n",
      "Epoch 2/20, Loss: 0.4746\n",
      "Epoch 3/20, Loss: 0.4269\n",
      "Epoch 4/20, Loss: 0.4056\n",
      "Epoch 5/20, Loss: 0.3959\n",
      "Epoch 6/20, Loss: 0.3856\n",
      "Epoch 7/20, Loss: 0.3779\n",
      "Epoch 8/20, Loss: 0.3755\n",
      "Epoch 9/20, Loss: 0.3682\n",
      "Epoch 10/20, Loss: 0.3607\n",
      "Epoch 11/20, Loss: 0.3583\n",
      "Epoch 12/20, Loss: 0.3512\n",
      "Epoch 13/20, Loss: 0.3575\n",
      "Epoch 14/20, Loss: 0.3525\n",
      "Epoch 15/20, Loss: 0.3542\n",
      "Epoch 16/20, Loss: 0.3479\n",
      "Epoch 17/20, Loss: 0.3479\n",
      "Epoch 18/20, Loss: 0.3459\n",
      "Epoch 19/20, Loss: 0.3357\n",
      "Epoch 20/20, Loss: 0.3462\n",
      "Training complete\n",
      "Validation Loss: 0.3658\n",
      "Epoch 1/20, Loss: 0.5673\n",
      "Epoch 2/20, Loss: 0.4112\n",
      "Epoch 3/20, Loss: 0.3963\n",
      "Epoch 4/20, Loss: 0.3946\n",
      "Epoch 5/20, Loss: 0.3799\n",
      "Epoch 6/20, Loss: 0.3712\n",
      "Epoch 7/20, Loss: 0.3690\n",
      "Epoch 8/20, Loss: 0.3631\n",
      "Epoch 9/20, Loss: 0.3721\n",
      "Epoch 10/20, Loss: 0.3739\n",
      "Epoch 11/20, Loss: 0.3545\n",
      "Epoch 12/20, Loss: 0.3558\n",
      "Epoch 13/20, Loss: 0.3565\n",
      "Epoch 14/20, Loss: 0.3509\n",
      "Epoch 15/20, Loss: 0.3493\n",
      "Epoch 16/20, Loss: 0.3531\n",
      "Epoch 17/20, Loss: 0.3477\n",
      "Epoch 18/20, Loss: 0.3478\n",
      "Epoch 19/20, Loss: 0.3510\n",
      "Epoch 20/20, Loss: 0.3461\n",
      "Training complete\n",
      "Validation Loss: 0.3355\n",
      "Epoch 1/20, Loss: 0.5823\n",
      "Epoch 2/20, Loss: 0.4432\n",
      "Epoch 3/20, Loss: 0.3970\n",
      "Epoch 4/20, Loss: 0.3909\n",
      "Epoch 5/20, Loss: 0.3806\n",
      "Epoch 6/20, Loss: 0.3767\n",
      "Epoch 7/20, Loss: 0.3694\n",
      "Epoch 8/20, Loss: 0.3747\n",
      "Epoch 9/20, Loss: 0.3731\n",
      "Epoch 10/20, Loss: 0.3701\n",
      "Epoch 11/20, Loss: 0.3683\n",
      "Epoch 12/20, Loss: 0.3575\n",
      "Epoch 13/20, Loss: 0.3708\n",
      "Epoch 14/20, Loss: 0.3611\n",
      "Epoch 15/20, Loss: 0.3579\n",
      "Epoch 16/20, Loss: 0.3543\n",
      "Epoch 17/20, Loss: 0.3467\n",
      "Epoch 18/20, Loss: 0.3465\n",
      "Epoch 19/20, Loss: 0.3826\n",
      "Epoch 20/20, Loss: 0.3501\n",
      "Training complete\n",
      "Validation Loss: 0.3763\n",
      "Epoch 1/20, Loss: 0.6204\n",
      "Epoch 2/20, Loss: 0.4391\n",
      "Epoch 3/20, Loss: 0.4038\n",
      "Epoch 4/20, Loss: 0.4008\n",
      "Epoch 5/20, Loss: 0.3765\n",
      "Epoch 6/20, Loss: 0.3772\n",
      "Epoch 7/20, Loss: 0.3811\n",
      "Epoch 8/20, Loss: 0.3720\n",
      "Epoch 9/20, Loss: 0.3710\n",
      "Epoch 10/20, Loss: 0.3703\n",
      "Epoch 11/20, Loss: 0.3506\n",
      "Epoch 12/20, Loss: 0.3487\n",
      "Epoch 13/20, Loss: 0.3434\n",
      "Epoch 14/20, Loss: 0.3474\n",
      "Epoch 15/20, Loss: 0.3530\n",
      "Epoch 16/20, Loss: 0.3426\n",
      "Epoch 17/20, Loss: 0.3445\n",
      "Epoch 18/20, Loss: 0.3502\n",
      "Epoch 19/20, Loss: 0.3348\n",
      "Epoch 20/20, Loss: 0.3359\n",
      "Training complete\n",
      "Validation Loss: 0.3549\n",
      "Best validation loss: 0.31369560956954956\n"
     ]
    }
   ],
   "source": [
    "# training\n",
    "\n",
    "train = True\n",
    "\n",
    "# model save\n",
    "model_path = os.path.join(model_dir, 'cnn.pth')\n",
    "\n",
    "def train_epoch(model, optimizer, criterion, dataloader):\n",
    "    model.train()\n",
    "    running_loss = 0\n",
    "    \n",
    "    for inputs, targets in dataloader:\n",
    "        optimizer.zero_grad()\n",
    "        outputs = model(inputs)\n",
    "        \n",
    "        loss = criterion(outputs, targets)\n",
    "        loss.backward()\n",
    "        optimizer.step()\n",
    "\n",
    "        running_loss += loss.item() * inputs.size(0)\n",
    "    # epoch loss\n",
    "    return running_loss / len(dataloader.dataset)\n",
    "\n",
    "def train(model, optimizer, criterion, data, labels, num_epochs = 20, batch_size=8):\n",
    "    # data loading\n",
    "    dataset = TensorDataset(data_train, labels_train)\n",
    "    dataloader = DataLoader(dataset, batch_size=batch_size, shuffle=True)\n",
    "    \n",
    "    best_loss = float('inf')\n",
    "    for epoch in range(num_epochs):\n",
    "        epoch_loss = train_epoch(model, optimizer, criterion, dataloader)\n",
    "        print(f'Epoch {epoch + 1}/{num_epochs}, Loss: {epoch_loss:.4f}')\n",
    "        \n",
    "        # save best model\n",
    "        if epoch_loss < best_loss:\n",
    "            best_loss = epoch_loss\n",
    "            torch.save(model.state_dict(), model_path)\n",
    "    print('Training complete')\n",
    "\n",
    "if not train:\n",
    "    print('Skipping training')\n",
    "else:\n",
    "    kf = KFold(n_splits=5)\n",
    "    best_loss = float('inf')\n",
    "    for fold, (idx_train, idx_val) in enumerate(kf.split(data_train)):\n",
    "        d_train, d_val = data_train[idx_train], data_train[idx_val]\n",
    "        l_train, l_val = labels_train[idx_train], labels_train[idx_val]\n",
    "        \n",
    "        model = CNN(window_size, classes=l_train.shape[1]).to(device)\n",
    "        criterion = nn.CrossEntropyLoss()\n",
    "        optimizer = optim.Adam(model.parameters(), lr=0.001)\n",
    "        train(model, optimizer, criterion, d_train, l_train)\n",
    "        \n",
    "        model.eval()\n",
    "        with torch.no_grad():\n",
    "            outputs = model(d_val)\n",
    "            val_loss = criterion(outputs, l_val).item()\n",
    "            print(f'Validation Loss: {val_loss:.4f}')\n",
    "            # save best model\n",
    "            if val_loss < best_loss:\n",
    "                best_loss = val_loss\n",
    "                torch.save(model.state_dict(), model_path)\n",
    "    print(f'Best validation loss: {best_loss}')"
   ]
  },
  {
   "cell_type": "code",
   "execution_count": 9,
   "id": "ef1b9967-41f7-4209-a712-e52f240e6160",
   "metadata": {},
   "outputs": [
    {
     "data": {
      "text/markdown": [
       "# Testing with p1"
      ],
      "text/plain": [
       "<IPython.core.display.Markdown object>"
      ]
     },
     "metadata": {},
     "output_type": "display_data"
    },
    {
     "name": "stdout",
     "output_type": "stream",
     "text": [
      "accuracy: 0.975\n"
     ]
    },
    {
     "data": {
      "image/png": "[encoded data removed]",
      "text/plain": [
       "<Figure size 640x480 with 2 Axes>"
      ]
     },
     "metadata": {},
     "output_type": "display_data"
    }
   ],
   "source": [
    "# load best model\n",
    "model.load_state_dict(torch.load(model_path))\n",
    "model.eval()\n",
    "\n",
    "with torch.no_grad():\n",
    "    outputs = model(data_test)\n",
    "    _, prediction = torch.max(outputs, 1)\n",
    "    _, true_labels = torch.max(labels_test, 1)\n",
    "    def transform_labels(labels):\n",
    "        return encoder.categories_[0][np.array(labels.cpu())]\n",
    "    report_cm(f'Testing with {test_person}', transform_labels(true_labels), transform_labels(prediction), encoder.categories_[0])"
   ]
  },
  {
   "cell_type": "code",
   "execution_count": null,
   "id": "65b20429-676d-4c05-8a31-d063f535ccfc",
   "metadata": {},
   "outputs": [],
   "source": []
  }
 ],
 "metadata": {
  "kernelspec": {
   "display_name": "Python 3 (ipykernel)",
   "language": "python",
   "name": "python3"
  },
  "language_info": {
   "codemirror_mode": {
    "name": "ipython",
    "version": 3
   },
   "file_extension": ".py",
   "mimetype": "text/x-python",
   "name": "python",
   "nbconvert_exporter": "python",
   "pygments_lexer": "ipython3",
   "version": "3.12.2"
  }
 },
 "nbformat": 4,
 "nbformat_minor": 5
}
